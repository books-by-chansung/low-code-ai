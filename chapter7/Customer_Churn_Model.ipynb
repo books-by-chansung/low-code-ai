{
  "cells": [
    {
      "cell_type": "markdown",
      "metadata": {
        "id": "view-in-github",
        "colab_type": "text"
      },
      "source": [
        "<a href=\"https://colab.research.google.com/github/books-by-chansung/low-code-ai/blob/main/chapter7/Customer_Churn_Model.ipynb\" target=\"_parent\"><img src=\"https://colab.research.google.com/assets/colab-badge.svg\" alt=\"Open In Colab\"/></a>"
      ]
    },
    {
      "cell_type": "markdown",
      "metadata": {
        "id": "_w4XjoBInUXr"
      },
      "source": [
        "# 비즈니스 사용 사례: 고객 이탈 예측\n",
        "\n",
        "이 프로젝트에서 목표는 통신 회사의 고객 이탈을 예측하는 것입니다.\n",
        "고객 이탈은 고객 이탈률을 의미하며, 즉 고객이 서비스를 중단하기로 선택하는 비율입니다.\n",
        "통신 회사는 종종 제품을 월별 요금이나 연간 계약으로 판매하므로, 여기서 이탈은 고객이 다음 달에 구독이나 계약을 취소하는 경우를 의미합니다.\n",
        "\n",
        "이 노트북에서 다루는 작업에 대한 전체 설명과 해설은 책의 7장을 참조하세요.\n"
      ]
    },
    {
      "cell_type": "markdown",
      "metadata": {
        "id": "U90CcuVFnUXw"
      },
      "source": [
        "## 판다스, 맷플롯립, Seaborn으로 데이터셋 탐색하기\n",
        "\n",
        "\n",
        "먼저 이 노트북에 필요한 패키지들을 불러옵니다. 여기에는 나중에 다룰 사이킷런 및 텐서플로가 포함됩니다.\n"
      ]
    },
    {
      "cell_type": "code",
      "execution_count": null,
      "metadata": {
        "id": "GPcD62qgVREI",
        "outputId": "7bb08a04-9ab4-4b12-e8c3-9f8f69a64e05"
      },
      "outputs": [
        {
          "name": "stderr",
          "output_type": "stream",
          "text": [
            "2023-09-20 20:31:40.009177: I tensorflow/core/util/port.cc:110] oneDNN custom operations are on. You may see slightly different numerical results due to floating-point round-off errors from different computation orders. To turn them off, set the environment variable `TF_ENABLE_ONEDNN_OPTS=0`.\n",
            "2023-09-20 20:31:40.039670: I tensorflow/tsl/cuda/cudart_stub.cc:28] Could not find cuda drivers on your machine, GPU will not be used.\n",
            "2023-09-20 20:31:40.248156: I tensorflow/tsl/cuda/cudart_stub.cc:28] Could not find cuda drivers on your machine, GPU will not be used.\n",
            "2023-09-20 20:31:40.249254: I tensorflow/core/platform/cpu_feature_guard.cc:182] This TensorFlow binary is optimized to use available CPU instructions in performance-critical operations.\n",
            "To enable the following instructions: AVX2 AVX_VNNI FMA, in other operations, rebuild TensorFlow with the appropriate compiler flags.\n",
            "2023-09-20 20:31:41.133552: W tensorflow/compiler/tf2tensorrt/utils/py_utils.cc:38] TF-TRT Warning: Could not find TensorRT\n"
          ]
        }
      ],
      "source": [
        "import matplotlib.pyplot as plt\n",
        "import numpy as np\n",
        "import pandas as pd\n",
        "import seaborn as sns\n",
        "import sklearn\n",
        "import tensorflow as tf\n"
      ]
    },
    {
      "cell_type": "markdown",
      "metadata": {
        "id": "Z_RaTf7RnUX0"
      },
      "source": [
        "진행하기에 앞서 사이킷런 및 텐서플로의 버전을 확인합니다"
      ]
    },
    {
      "cell_type": "code",
      "execution_count": null,
      "metadata": {
        "colab": {
          "base_uri": "https://localhost:8080/"
        },
        "id": "gZXSNiGTWUB-",
        "outputId": "c27797d7-9676-464c-8605-579364da5e5b"
      },
      "outputs": [
        {
          "name": "stdout",
          "output_type": "stream",
          "text": [
            "scikit-learn version: 1.3.0\n",
            "TensorFlow version: 2.13.0\n"
          ]
        }
      ],
      "source": [
        "print(\"scikit-learn version:\", sklearn.__version__)\n",
        "print(\"TensorFlow version:\", tf.__version__)\n"
      ]
    },
    {
      "cell_type": "markdown",
      "metadata": {
        "id": "PGzLuVQynUX1"
      },
      "source": [
        "고객 이탈 데이터셋을 포함하는 CSV 파일을 가져와 판다스의 데이터프레임으로 만듭니다"
      ]
    },
    {
      "cell_type": "code",
      "execution_count": null,
      "metadata": {
        "id": "CundLb4hWYoN"
      },
      "outputs": [],
      "source": [
        "file_loc = 'https://storage.googleapis.com/low-code-ai-book/churn_dataset.csv'\n",
        "df_raw = pd.read_csv(file_loc)"
      ]
    },
    {
      "cell_type": "markdown",
      "metadata": {
        "id": "S9hviiKBnUX3"
      },
      "source": [
        "`df_raw` 데이터프레임의 `head()` 메서드를 통해 처음 다섯 개의 데이터를 확인합니다."
      ]
    },
    {
      "cell_type": "code",
      "execution_count": null,
      "metadata": {
        "colab": {
          "base_uri": "https://localhost:8080/",
          "height": 368
        },
        "id": "Ql1lF8skWbtn",
        "outputId": "689a5c67-6493-400c-ccc6-3e0148f0aefb"
      },
      "outputs": [
        {
          "data": {
            "text/html": [
              "<div>\n",
              "<style scoped>\n",
              "    .dataframe tbody tr th:only-of-type {\n",
              "        vertical-align: middle;\n",
              "    }\n",
              "\n",
              "    .dataframe tbody tr th {\n",
              "        vertical-align: top;\n",
              "    }\n",
              "\n",
              "    .dataframe thead th {\n",
              "        text-align: right;\n",
              "    }\n",
              "</style>\n",
              "<table border=\"1\" class=\"dataframe\">\n",
              "  <thead>\n",
              "    <tr style=\"text-align: right;\">\n",
              "      <th></th>\n",
              "      <th>customerID</th>\n",
              "      <th>gender</th>\n",
              "      <th>SeniorCitizen</th>\n",
              "      <th>Partner</th>\n",
              "      <th>Dependents</th>\n",
              "      <th>tenure</th>\n",
              "      <th>PhoneService</th>\n",
              "      <th>MultipleLines</th>\n",
              "      <th>InternetService</th>\n",
              "      <th>OnlineSecurity</th>\n",
              "      <th>...</th>\n",
              "      <th>DeviceProtection</th>\n",
              "      <th>TechSupport</th>\n",
              "      <th>StreamingTV</th>\n",
              "      <th>StreamingMovies</th>\n",
              "      <th>Contract</th>\n",
              "      <th>PaperlessBilling</th>\n",
              "      <th>PaymentMethod</th>\n",
              "      <th>MonthlyCharges</th>\n",
              "      <th>TotalCharges</th>\n",
              "      <th>Churn</th>\n",
              "    </tr>\n",
              "  </thead>\n",
              "  <tbody>\n",
              "    <tr>\n",
              "      <th>0</th>\n",
              "      <td>7590-VHVEG</td>\n",
              "      <td>Female</td>\n",
              "      <td>0</td>\n",
              "      <td>Yes</td>\n",
              "      <td>No</td>\n",
              "      <td>1</td>\n",
              "      <td>No</td>\n",
              "      <td>No phone service</td>\n",
              "      <td>DSL</td>\n",
              "      <td>No</td>\n",
              "      <td>...</td>\n",
              "      <td>No</td>\n",
              "      <td>No</td>\n",
              "      <td>No</td>\n",
              "      <td>No</td>\n",
              "      <td>Month-to-month</td>\n",
              "      <td>Yes</td>\n",
              "      <td>Electronic check</td>\n",
              "      <td>29.85</td>\n",
              "      <td>29.85</td>\n",
              "      <td>No</td>\n",
              "    </tr>\n",
              "    <tr>\n",
              "      <th>1</th>\n",
              "      <td>5575-GNVDE</td>\n",
              "      <td>Male</td>\n",
              "      <td>0</td>\n",
              "      <td>No</td>\n",
              "      <td>No</td>\n",
              "      <td>34</td>\n",
              "      <td>Yes</td>\n",
              "      <td>No</td>\n",
              "      <td>DSL</td>\n",
              "      <td>Yes</td>\n",
              "      <td>...</td>\n",
              "      <td>Yes</td>\n",
              "      <td>No</td>\n",
              "      <td>No</td>\n",
              "      <td>No</td>\n",
              "      <td>One year</td>\n",
              "      <td>No</td>\n",
              "      <td>Mailed check</td>\n",
              "      <td>56.95</td>\n",
              "      <td>1889.5</td>\n",
              "      <td>No</td>\n",
              "    </tr>\n",
              "    <tr>\n",
              "      <th>2</th>\n",
              "      <td>3668-QPYBK</td>\n",
              "      <td>Male</td>\n",
              "      <td>0</td>\n",
              "      <td>No</td>\n",
              "      <td>No</td>\n",
              "      <td>2</td>\n",
              "      <td>Yes</td>\n",
              "      <td>No</td>\n",
              "      <td>DSL</td>\n",
              "      <td>Yes</td>\n",
              "      <td>...</td>\n",
              "      <td>No</td>\n",
              "      <td>No</td>\n",
              "      <td>No</td>\n",
              "      <td>No</td>\n",
              "      <td>Month-to-month</td>\n",
              "      <td>Yes</td>\n",
              "      <td>Mailed check</td>\n",
              "      <td>53.85</td>\n",
              "      <td>108.15</td>\n",
              "      <td>Yes</td>\n",
              "    </tr>\n",
              "    <tr>\n",
              "      <th>3</th>\n",
              "      <td>7795-CFOCW</td>\n",
              "      <td>Male</td>\n",
              "      <td>0</td>\n",
              "      <td>No</td>\n",
              "      <td>No</td>\n",
              "      <td>45</td>\n",
              "      <td>No</td>\n",
              "      <td>No phone service</td>\n",
              "      <td>DSL</td>\n",
              "      <td>Yes</td>\n",
              "      <td>...</td>\n",
              "      <td>Yes</td>\n",
              "      <td>Yes</td>\n",
              "      <td>No</td>\n",
              "      <td>No</td>\n",
              "      <td>One year</td>\n",
              "      <td>No</td>\n",
              "      <td>Bank transfer (automatic)</td>\n",
              "      <td>42.30</td>\n",
              "      <td>1840.75</td>\n",
              "      <td>No</td>\n",
              "    </tr>\n",
              "    <tr>\n",
              "      <th>4</th>\n",
              "      <td>9237-HQITU</td>\n",
              "      <td>Female</td>\n",
              "      <td>0</td>\n",
              "      <td>No</td>\n",
              "      <td>No</td>\n",
              "      <td>2</td>\n",
              "      <td>Yes</td>\n",
              "      <td>No</td>\n",
              "      <td>Fiber optic</td>\n",
              "      <td>No</td>\n",
              "      <td>...</td>\n",
              "      <td>No</td>\n",
              "      <td>No</td>\n",
              "      <td>No</td>\n",
              "      <td>No</td>\n",
              "      <td>Month-to-month</td>\n",
              "      <td>Yes</td>\n",
              "      <td>Electronic check</td>\n",
              "      <td>70.70</td>\n",
              "      <td>151.65</td>\n",
              "      <td>Yes</td>\n",
              "    </tr>\n",
              "  </tbody>\n",
              "</table>\n",
              "<p>5 rows × 21 columns</p>\n",
              "</div>"
            ],
            "text/plain": [
              "   customerID  gender  SeniorCitizen Partner Dependents  tenure PhoneService  \\\n",
              "0  7590-VHVEG  Female              0     Yes         No       1           No   \n",
              "1  5575-GNVDE    Male              0      No         No      34          Yes   \n",
              "2  3668-QPYBK    Male              0      No         No       2          Yes   \n",
              "3  7795-CFOCW    Male              0      No         No      45           No   \n",
              "4  9237-HQITU  Female              0      No         No       2          Yes   \n",
              "\n",
              "      MultipleLines InternetService OnlineSecurity  ... DeviceProtection  \\\n",
              "0  No phone service             DSL             No  ...               No   \n",
              "1                No             DSL            Yes  ...              Yes   \n",
              "2                No             DSL            Yes  ...               No   \n",
              "3  No phone service             DSL            Yes  ...              Yes   \n",
              "4                No     Fiber optic             No  ...               No   \n",
              "\n",
              "  TechSupport StreamingTV StreamingMovies        Contract PaperlessBilling  \\\n",
              "0          No          No              No  Month-to-month              Yes   \n",
              "1          No          No              No        One year               No   \n",
              "2          No          No              No  Month-to-month              Yes   \n",
              "3         Yes          No              No        One year               No   \n",
              "4          No          No              No  Month-to-month              Yes   \n",
              "\n",
              "               PaymentMethod MonthlyCharges  TotalCharges Churn  \n",
              "0           Electronic check          29.85         29.85    No  \n",
              "1               Mailed check          56.95        1889.5    No  \n",
              "2               Mailed check          53.85        108.15   Yes  \n",
              "3  Bank transfer (automatic)          42.30       1840.75    No  \n",
              "4           Electronic check          70.70        151.65   Yes  \n",
              "\n",
              "[5 rows x 21 columns]"
            ]
          },
          "execution_count": 4,
          "metadata": {},
          "output_type": "execute_result"
        }
      ],
      "source": [
        "df_raw.head()"
      ]
    },
    {
      "cell_type": "markdown",
      "metadata": {
        "id": "WGSxF6YCnUX5"
      },
      "source": [
        "`df_raw` 데이터프레임의 각 열에 대한 데이터 유형을 탐색합니다. 참고로 `TotalCharges` 열은 예상과는 다른 데이터 유형입니다."
      ]
    },
    {
      "cell_type": "code",
      "execution_count": null,
      "metadata": {
        "colab": {
          "base_uri": "https://localhost:8080/"
        },
        "id": "TMGTOXG1XdVA",
        "outputId": "12cd0788-6018-4e67-bc40-08c93406d01a"
      },
      "outputs": [
        {
          "data": {
            "text/plain": [
              "customerID           object\n",
              "gender               object\n",
              "SeniorCitizen         int64\n",
              "Partner              object\n",
              "Dependents           object\n",
              "tenure                int64\n",
              "PhoneService         object\n",
              "MultipleLines        object\n",
              "InternetService      object\n",
              "OnlineSecurity       object\n",
              "OnlineBackup         object\n",
              "DeviceProtection     object\n",
              "TechSupport          object\n",
              "StreamingTV          object\n",
              "StreamingMovies      object\n",
              "Contract             object\n",
              "PaperlessBilling     object\n",
              "PaymentMethod        object\n",
              "MonthlyCharges      float64\n",
              "TotalCharges         object\n",
              "Churn                object\n",
              "dtype: object"
            ]
          },
          "execution_count": 5,
          "metadata": {},
          "output_type": "execute_result"
        }
      ],
      "source": [
        "df_raw.dtypes"
      ]
    },
    {
      "cell_type": "markdown",
      "metadata": {
        "id": "ZgqZQ1EMnUX8"
      },
      "source": [
        "describe() 메서드를 통해 TotalCharges 열에 대해 몇 가지 고수준의 통계 정보를 확인합니다.\n"
      ]
    },
    {
      "cell_type": "code",
      "execution_count": null,
      "metadata": {
        "colab": {
          "base_uri": "https://localhost:8080/"
        },
        "id": "vcmzIpp6XhIY",
        "outputId": "31661c2f-31d9-4393-9566-07537ffe05b8"
      },
      "outputs": [
        {
          "data": {
            "text/plain": [
              "count     7043\n",
              "unique    6531\n",
              "top           \n",
              "freq        11\n",
              "Name: TotalCharges, dtype: object"
            ]
          },
          "execution_count": 8,
          "metadata": {},
          "output_type": "execute_result"
        }
      ],
      "source": [
        "df_raw['TotalCharges'].describe()"
      ]
    },
    {
      "cell_type": "markdown",
      "metadata": {
        "id": "HiVP_jzxnUX9"
      },
      "source": [
        "`True` 또는 `False`를 반환하는 간단한 마스크를 생성하여, `df_raw`를 필터링하고 `TotalCharges` 열의 값이 비어있는 행만 반환합니다"
      ]
    },
    {
      "cell_type": "code",
      "execution_count": null,
      "metadata": {
        "colab": {
          "base_uri": "https://localhost:8080/",
          "height": 368
        },
        "id": "0eXz4GfMXkqr",
        "outputId": "063214f9-8153-48b6-f991-fcaa8d7d1637"
      },
      "outputs": [
        {
          "data": {
            "text/html": [
              "<div>\n",
              "<style scoped>\n",
              "    .dataframe tbody tr th:only-of-type {\n",
              "        vertical-align: middle;\n",
              "    }\n",
              "\n",
              "    .dataframe tbody tr th {\n",
              "        vertical-align: top;\n",
              "    }\n",
              "\n",
              "    .dataframe thead th {\n",
              "        text-align: right;\n",
              "    }\n",
              "</style>\n",
              "<table border=\"1\" class=\"dataframe\">\n",
              "  <thead>\n",
              "    <tr style=\"text-align: right;\">\n",
              "      <th></th>\n",
              "      <th>customerID</th>\n",
              "      <th>gender</th>\n",
              "      <th>SeniorCitizen</th>\n",
              "      <th>Partner</th>\n",
              "      <th>Dependents</th>\n",
              "      <th>tenure</th>\n",
              "      <th>PhoneService</th>\n",
              "      <th>MultipleLines</th>\n",
              "      <th>InternetService</th>\n",
              "      <th>OnlineSecurity</th>\n",
              "      <th>...</th>\n",
              "      <th>DeviceProtection</th>\n",
              "      <th>TechSupport</th>\n",
              "      <th>StreamingTV</th>\n",
              "      <th>StreamingMovies</th>\n",
              "      <th>Contract</th>\n",
              "      <th>PaperlessBilling</th>\n",
              "      <th>PaymentMethod</th>\n",
              "      <th>MonthlyCharges</th>\n",
              "      <th>TotalCharges</th>\n",
              "      <th>Churn</th>\n",
              "    </tr>\n",
              "  </thead>\n",
              "  <tbody>\n",
              "    <tr>\n",
              "      <th>488</th>\n",
              "      <td>4472-LVYGI</td>\n",
              "      <td>Female</td>\n",
              "      <td>0</td>\n",
              "      <td>Yes</td>\n",
              "      <td>Yes</td>\n",
              "      <td>0</td>\n",
              "      <td>No</td>\n",
              "      <td>No phone service</td>\n",
              "      <td>DSL</td>\n",
              "      <td>Yes</td>\n",
              "      <td>...</td>\n",
              "      <td>Yes</td>\n",
              "      <td>Yes</td>\n",
              "      <td>Yes</td>\n",
              "      <td>No</td>\n",
              "      <td>Two year</td>\n",
              "      <td>Yes</td>\n",
              "      <td>Bank transfer (automatic)</td>\n",
              "      <td>52.55</td>\n",
              "      <td></td>\n",
              "      <td>No</td>\n",
              "    </tr>\n",
              "    <tr>\n",
              "      <th>753</th>\n",
              "      <td>3115-CZMZD</td>\n",
              "      <td>Male</td>\n",
              "      <td>0</td>\n",
              "      <td>No</td>\n",
              "      <td>Yes</td>\n",
              "      <td>0</td>\n",
              "      <td>Yes</td>\n",
              "      <td>No</td>\n",
              "      <td>No</td>\n",
              "      <td>No internet service</td>\n",
              "      <td>...</td>\n",
              "      <td>No internet service</td>\n",
              "      <td>No internet service</td>\n",
              "      <td>No internet service</td>\n",
              "      <td>No internet service</td>\n",
              "      <td>Two year</td>\n",
              "      <td>No</td>\n",
              "      <td>Mailed check</td>\n",
              "      <td>20.25</td>\n",
              "      <td></td>\n",
              "      <td>No</td>\n",
              "    </tr>\n",
              "    <tr>\n",
              "      <th>936</th>\n",
              "      <td>5709-LVOEQ</td>\n",
              "      <td>Female</td>\n",
              "      <td>0</td>\n",
              "      <td>Yes</td>\n",
              "      <td>Yes</td>\n",
              "      <td>0</td>\n",
              "      <td>Yes</td>\n",
              "      <td>No</td>\n",
              "      <td>DSL</td>\n",
              "      <td>Yes</td>\n",
              "      <td>...</td>\n",
              "      <td>Yes</td>\n",
              "      <td>No</td>\n",
              "      <td>Yes</td>\n",
              "      <td>Yes</td>\n",
              "      <td>Two year</td>\n",
              "      <td>No</td>\n",
              "      <td>Mailed check</td>\n",
              "      <td>80.85</td>\n",
              "      <td></td>\n",
              "      <td>No</td>\n",
              "    </tr>\n",
              "    <tr>\n",
              "      <th>1082</th>\n",
              "      <td>4367-NUYAO</td>\n",
              "      <td>Male</td>\n",
              "      <td>0</td>\n",
              "      <td>Yes</td>\n",
              "      <td>Yes</td>\n",
              "      <td>0</td>\n",
              "      <td>Yes</td>\n",
              "      <td>Yes</td>\n",
              "      <td>No</td>\n",
              "      <td>No internet service</td>\n",
              "      <td>...</td>\n",
              "      <td>No internet service</td>\n",
              "      <td>No internet service</td>\n",
              "      <td>No internet service</td>\n",
              "      <td>No internet service</td>\n",
              "      <td>Two year</td>\n",
              "      <td>No</td>\n",
              "      <td>Mailed check</td>\n",
              "      <td>25.75</td>\n",
              "      <td></td>\n",
              "      <td>No</td>\n",
              "    </tr>\n",
              "    <tr>\n",
              "      <th>1340</th>\n",
              "      <td>1371-DWPAZ</td>\n",
              "      <td>Female</td>\n",
              "      <td>0</td>\n",
              "      <td>Yes</td>\n",
              "      <td>Yes</td>\n",
              "      <td>0</td>\n",
              "      <td>No</td>\n",
              "      <td>No phone service</td>\n",
              "      <td>DSL</td>\n",
              "      <td>Yes</td>\n",
              "      <td>...</td>\n",
              "      <td>Yes</td>\n",
              "      <td>Yes</td>\n",
              "      <td>Yes</td>\n",
              "      <td>No</td>\n",
              "      <td>Two year</td>\n",
              "      <td>No</td>\n",
              "      <td>Credit card (automatic)</td>\n",
              "      <td>56.05</td>\n",
              "      <td></td>\n",
              "      <td>No</td>\n",
              "    </tr>\n",
              "  </tbody>\n",
              "</table>\n",
              "<p>5 rows × 21 columns</p>\n",
              "</div>"
            ],
            "text/plain": [
              "      customerID  gender  SeniorCitizen Partner Dependents  tenure  \\\n",
              "488   4472-LVYGI  Female              0     Yes        Yes       0   \n",
              "753   3115-CZMZD    Male              0      No        Yes       0   \n",
              "936   5709-LVOEQ  Female              0     Yes        Yes       0   \n",
              "1082  4367-NUYAO    Male              0     Yes        Yes       0   \n",
              "1340  1371-DWPAZ  Female              0     Yes        Yes       0   \n",
              "\n",
              "     PhoneService     MultipleLines InternetService       OnlineSecurity  ...  \\\n",
              "488            No  No phone service             DSL                  Yes  ...   \n",
              "753           Yes                No              No  No internet service  ...   \n",
              "936           Yes                No             DSL                  Yes  ...   \n",
              "1082          Yes               Yes              No  No internet service  ...   \n",
              "1340           No  No phone service             DSL                  Yes  ...   \n",
              "\n",
              "         DeviceProtection          TechSupport          StreamingTV  \\\n",
              "488                   Yes                  Yes                  Yes   \n",
              "753   No internet service  No internet service  No internet service   \n",
              "936                   Yes                   No                  Yes   \n",
              "1082  No internet service  No internet service  No internet service   \n",
              "1340                  Yes                  Yes                  Yes   \n",
              "\n",
              "          StreamingMovies  Contract PaperlessBilling  \\\n",
              "488                    No  Two year              Yes   \n",
              "753   No internet service  Two year               No   \n",
              "936                   Yes  Two year               No   \n",
              "1082  No internet service  Two year               No   \n",
              "1340                   No  Two year               No   \n",
              "\n",
              "                  PaymentMethod MonthlyCharges  TotalCharges Churn  \n",
              "488   Bank transfer (automatic)          52.55                  No  \n",
              "753                Mailed check          20.25                  No  \n",
              "936                Mailed check          80.85                  No  \n",
              "1082               Mailed check          25.75                  No  \n",
              "1340    Credit card (automatic)          56.05                  No  \n",
              "\n",
              "[5 rows x 21 columns]"
            ]
          },
          "execution_count": 7,
          "metadata": {},
          "output_type": "execute_result"
        }
      ],
      "source": [
        "mask = (df_raw['TotalCharges']==' ')\n",
        "df_raw[mask].head()\n"
      ]
    },
    {
      "cell_type": "markdown",
      "metadata": {
        "id": "Ntt8mtY5nUX-"
      },
      "source": [
        "tenure 값이 0이라면, 이 고객들은 통신사에서 첫 달을 보내고 있으며, 아직 요금이 청구되지 않은 것입니다.\n",
        "\n",
        "이 가설을 검증하기 위해 다른 마스크를 사용하여 tenure가 0인 행을 확인하세요.\n"
      ]
    },
    {
      "cell_type": "code",
      "execution_count": null,
      "metadata": {
        "colab": {
          "base_uri": "https://localhost:8080/",
          "height": 394
        },
        "id": "olQ6RxJcXyMP",
        "outputId": "3a704a3f-2122-4062-abf2-0478431b51a2"
      },
      "outputs": [
        {
          "data": {
            "text/html": [
              "<div>\n",
              "<style scoped>\n",
              "    .dataframe tbody tr th:only-of-type {\n",
              "        vertical-align: middle;\n",
              "    }\n",
              "\n",
              "    .dataframe tbody tr th {\n",
              "        vertical-align: top;\n",
              "    }\n",
              "\n",
              "    .dataframe thead th {\n",
              "        text-align: right;\n",
              "    }\n",
              "</style>\n",
              "<table border=\"1\" class=\"dataframe\">\n",
              "  <thead>\n",
              "    <tr style=\"text-align: right;\">\n",
              "      <th></th>\n",
              "      <th>tenure</th>\n",
              "      <th>TotalCharges</th>\n",
              "    </tr>\n",
              "  </thead>\n",
              "  <tbody>\n",
              "    <tr>\n",
              "      <th>488</th>\n",
              "      <td>0</td>\n",
              "      <td></td>\n",
              "    </tr>\n",
              "    <tr>\n",
              "      <th>753</th>\n",
              "      <td>0</td>\n",
              "      <td></td>\n",
              "    </tr>\n",
              "    <tr>\n",
              "      <th>936</th>\n",
              "      <td>0</td>\n",
              "      <td></td>\n",
              "    </tr>\n",
              "    <tr>\n",
              "      <th>1082</th>\n",
              "      <td>0</td>\n",
              "      <td></td>\n",
              "    </tr>\n",
              "    <tr>\n",
              "      <th>1340</th>\n",
              "      <td>0</td>\n",
              "      <td></td>\n",
              "    </tr>\n",
              "    <tr>\n",
              "      <th>3331</th>\n",
              "      <td>0</td>\n",
              "      <td></td>\n",
              "    </tr>\n",
              "    <tr>\n",
              "      <th>3826</th>\n",
              "      <td>0</td>\n",
              "      <td></td>\n",
              "    </tr>\n",
              "    <tr>\n",
              "      <th>4380</th>\n",
              "      <td>0</td>\n",
              "      <td></td>\n",
              "    </tr>\n",
              "    <tr>\n",
              "      <th>5218</th>\n",
              "      <td>0</td>\n",
              "      <td></td>\n",
              "    </tr>\n",
              "    <tr>\n",
              "      <th>6670</th>\n",
              "      <td>0</td>\n",
              "      <td></td>\n",
              "    </tr>\n",
              "    <tr>\n",
              "      <th>6754</th>\n",
              "      <td>0</td>\n",
              "      <td></td>\n",
              "    </tr>\n",
              "  </tbody>\n",
              "</table>\n",
              "</div>"
            ],
            "text/plain": [
              "      tenure TotalCharges\n",
              "488        0             \n",
              "753        0             \n",
              "936        0             \n",
              "1082       0             \n",
              "1340       0             \n",
              "3331       0             \n",
              "3826       0             \n",
              "4380       0             \n",
              "5218       0             \n",
              "6670       0             \n",
              "6754       0             "
            ]
          },
          "execution_count": 8,
          "metadata": {},
          "output_type": "execute_result"
        }
      ],
      "source": [
        "mask = (df_raw['tenure']==0)\n",
        "df_raw[mask][['tenure','TotalCharges']]\n"
      ]
    },
    {
      "cell_type": "markdown",
      "metadata": {
        "id": "avwNGoZznUX_"
      },
      "source": [
        "`TotalCharges` 열의 빈 값을 `0.0`으로 대체하고, 모든 행이 처리되었는지 확인합니다.\n"
      ]
    },
    {
      "cell_type": "code",
      "execution_count": null,
      "metadata": {
        "colab": {
          "base_uri": "https://localhost:8080/",
          "height": 394
        },
        "id": "u4G1eVj4X5QF",
        "outputId": "acebcac1-8295-476f-b512-2ca2714155e1"
      },
      "outputs": [
        {
          "data": {
            "text/html": [
              "<div>\n",
              "<style scoped>\n",
              "    .dataframe tbody tr th:only-of-type {\n",
              "        vertical-align: middle;\n",
              "    }\n",
              "\n",
              "    .dataframe tbody tr th {\n",
              "        vertical-align: top;\n",
              "    }\n",
              "\n",
              "    .dataframe thead th {\n",
              "        text-align: right;\n",
              "    }\n",
              "</style>\n",
              "<table border=\"1\" class=\"dataframe\">\n",
              "  <thead>\n",
              "    <tr style=\"text-align: right;\">\n",
              "      <th></th>\n",
              "      <th>tenure</th>\n",
              "      <th>TotalCharges</th>\n",
              "    </tr>\n",
              "  </thead>\n",
              "  <tbody>\n",
              "    <tr>\n",
              "      <th>488</th>\n",
              "      <td>0</td>\n",
              "      <td>0.0</td>\n",
              "    </tr>\n",
              "    <tr>\n",
              "      <th>753</th>\n",
              "      <td>0</td>\n",
              "      <td>0.0</td>\n",
              "    </tr>\n",
              "    <tr>\n",
              "      <th>936</th>\n",
              "      <td>0</td>\n",
              "      <td>0.0</td>\n",
              "    </tr>\n",
              "    <tr>\n",
              "      <th>1082</th>\n",
              "      <td>0</td>\n",
              "      <td>0.0</td>\n",
              "    </tr>\n",
              "    <tr>\n",
              "      <th>1340</th>\n",
              "      <td>0</td>\n",
              "      <td>0.0</td>\n",
              "    </tr>\n",
              "    <tr>\n",
              "      <th>3331</th>\n",
              "      <td>0</td>\n",
              "      <td>0.0</td>\n",
              "    </tr>\n",
              "    <tr>\n",
              "      <th>3826</th>\n",
              "      <td>0</td>\n",
              "      <td>0.0</td>\n",
              "    </tr>\n",
              "    <tr>\n",
              "      <th>4380</th>\n",
              "      <td>0</td>\n",
              "      <td>0.0</td>\n",
              "    </tr>\n",
              "    <tr>\n",
              "      <th>5218</th>\n",
              "      <td>0</td>\n",
              "      <td>0.0</td>\n",
              "    </tr>\n",
              "    <tr>\n",
              "      <th>6670</th>\n",
              "      <td>0</td>\n",
              "      <td>0.0</td>\n",
              "    </tr>\n",
              "    <tr>\n",
              "      <th>6754</th>\n",
              "      <td>0</td>\n",
              "      <td>0.0</td>\n",
              "    </tr>\n",
              "  </tbody>\n",
              "</table>\n",
              "</div>"
            ],
            "text/plain": [
              "      tenure TotalCharges\n",
              "488        0          0.0\n",
              "753        0          0.0\n",
              "936        0          0.0\n",
              "1082       0          0.0\n",
              "1340       0          0.0\n",
              "3331       0          0.0\n",
              "3826       0          0.0\n",
              "4380       0          0.0\n",
              "5218       0          0.0\n",
              "6670       0          0.0\n",
              "6754       0          0.0"
            ]
          },
          "execution_count": 9,
          "metadata": {},
          "output_type": "execute_result"
        }
      ],
      "source": [
        "df_1 = df_raw.replace({'TotalCharges': {' ': 0.0}})\n",
        "mask = (df_raw['tenure']==0)\n",
        "df_1[mask][['tenure','TotalCharges']]"
      ]
    },
    {
      "cell_type": "markdown",
      "metadata": {
        "id": "pvfNHeYanUYA"
      },
      "source": [
        "`TotalCharges` 열을 올바르게 `float64` 유형으로 변환합니다.\n"
      ]
    },
    {
      "cell_type": "code",
      "execution_count": null,
      "metadata": {
        "colab": {
          "base_uri": "https://localhost:8080/"
        },
        "id": "2uyDVdY0X8OK",
        "outputId": "31913a5a-7170-4637-e121-073b1c587d67"
      },
      "outputs": [
        {
          "data": {
            "text/plain": [
              "customerID           object\n",
              "gender               object\n",
              "SeniorCitizen         int64\n",
              "Partner              object\n",
              "Dependents           object\n",
              "tenure                int64\n",
              "PhoneService         object\n",
              "MultipleLines        object\n",
              "InternetService      object\n",
              "OnlineSecurity       object\n",
              "OnlineBackup         object\n",
              "DeviceProtection     object\n",
              "TechSupport          object\n",
              "StreamingTV          object\n",
              "StreamingMovies      object\n",
              "Contract             object\n",
              "PaperlessBilling     object\n",
              "PaymentMethod        object\n",
              "MonthlyCharges      float64\n",
              "TotalCharges        float64\n",
              "Churn                object\n",
              "dtype: object"
            ]
          },
          "execution_count": 10,
          "metadata": {},
          "output_type": "execute_result"
        }
      ],
      "source": [
        "df_2 = df_1.astype({'TotalCharges':'float64'})\n",
        "df_2.dtypes\n"
      ]
    },
    {
      "cell_type": "markdown",
      "metadata": {
        "id": "CjiKLuGSnUYB"
      },
      "source": [
        "`TotalCharges` 열과 다른 수치형 열에 대한 요약 통계를 탐색합니다.\n"
      ]
    },
    {
      "cell_type": "code",
      "execution_count": null,
      "metadata": {
        "colab": {
          "base_uri": "https://localhost:8080/",
          "height": 300
        },
        "id": "5uItz_3JX_6S",
        "outputId": "d1143777-8944-43e6-a83a-bafb6f04410a"
      },
      "outputs": [
        {
          "data": {
            "text/html": [
              "<div>\n",
              "<style scoped>\n",
              "    .dataframe tbody tr th:only-of-type {\n",
              "        vertical-align: middle;\n",
              "    }\n",
              "\n",
              "    .dataframe tbody tr th {\n",
              "        vertical-align: top;\n",
              "    }\n",
              "\n",
              "    .dataframe thead th {\n",
              "        text-align: right;\n",
              "    }\n",
              "</style>\n",
              "<table border=\"1\" class=\"dataframe\">\n",
              "  <thead>\n",
              "    <tr style=\"text-align: right;\">\n",
              "      <th></th>\n",
              "      <th>SeniorCitizen</th>\n",
              "      <th>tenure</th>\n",
              "      <th>MonthlyCharges</th>\n",
              "      <th>TotalCharges</th>\n",
              "    </tr>\n",
              "  </thead>\n",
              "  <tbody>\n",
              "    <tr>\n",
              "      <th>count</th>\n",
              "      <td>7043.000000</td>\n",
              "      <td>7043.000000</td>\n",
              "      <td>7043.000000</td>\n",
              "      <td>7043.000000</td>\n",
              "    </tr>\n",
              "    <tr>\n",
              "      <th>mean</th>\n",
              "      <td>0.162147</td>\n",
              "      <td>32.371149</td>\n",
              "      <td>64.761692</td>\n",
              "      <td>2279.734304</td>\n",
              "    </tr>\n",
              "    <tr>\n",
              "      <th>std</th>\n",
              "      <td>0.368612</td>\n",
              "      <td>24.559481</td>\n",
              "      <td>30.090047</td>\n",
              "      <td>2266.794470</td>\n",
              "    </tr>\n",
              "    <tr>\n",
              "      <th>min</th>\n",
              "      <td>0.000000</td>\n",
              "      <td>0.000000</td>\n",
              "      <td>18.250000</td>\n",
              "      <td>0.000000</td>\n",
              "    </tr>\n",
              "    <tr>\n",
              "      <th>25%</th>\n",
              "      <td>0.000000</td>\n",
              "      <td>9.000000</td>\n",
              "      <td>35.500000</td>\n",
              "      <td>398.550000</td>\n",
              "    </tr>\n",
              "    <tr>\n",
              "      <th>50%</th>\n",
              "      <td>0.000000</td>\n",
              "      <td>29.000000</td>\n",
              "      <td>70.350000</td>\n",
              "      <td>1394.550000</td>\n",
              "    </tr>\n",
              "    <tr>\n",
              "      <th>75%</th>\n",
              "      <td>0.000000</td>\n",
              "      <td>55.000000</td>\n",
              "      <td>89.850000</td>\n",
              "      <td>3786.600000</td>\n",
              "    </tr>\n",
              "    <tr>\n",
              "      <th>max</th>\n",
              "      <td>1.000000</td>\n",
              "      <td>72.000000</td>\n",
              "      <td>118.750000</td>\n",
              "      <td>8684.800000</td>\n",
              "    </tr>\n",
              "  </tbody>\n",
              "</table>\n",
              "</div>"
            ],
            "text/plain": [
              "       SeniorCitizen       tenure  MonthlyCharges  TotalCharges\n",
              "count    7043.000000  7043.000000     7043.000000   7043.000000\n",
              "mean        0.162147    32.371149       64.761692   2279.734304\n",
              "std         0.368612    24.559481       30.090047   2266.794470\n",
              "min         0.000000     0.000000       18.250000      0.000000\n",
              "25%         0.000000     9.000000       35.500000    398.550000\n",
              "50%         0.000000    29.000000       70.350000   1394.550000\n",
              "75%         0.000000    55.000000       89.850000   3786.600000\n",
              "max         1.000000    72.000000      118.750000   8684.800000"
            ]
          },
          "execution_count": 11,
          "metadata": {},
          "output_type": "execute_result"
        }
      ],
      "source": [
        "df_2.describe()"
      ]
    },
    {
      "cell_type": "markdown",
      "metadata": {
        "id": "9_WzWjSLnUYC"
      },
      "source": [
        "선택적 키워드 파라미터인 `include`를 `include='all'`로 설정하여 `object` 유형의 열에 대한 통계도 포함시킵니다.\n"
      ]
    },
    {
      "cell_type": "code",
      "execution_count": null,
      "metadata": {
        "colab": {
          "base_uri": "https://localhost:8080/",
          "height": 504
        },
        "id": "TR7JeRrvYCqN",
        "outputId": "64815aec-7775-4f2c-ff33-f78295cadd3a"
      },
      "outputs": [
        {
          "data": {
            "text/html": [
              "<div>\n",
              "<style scoped>\n",
              "    .dataframe tbody tr th:only-of-type {\n",
              "        vertical-align: middle;\n",
              "    }\n",
              "\n",
              "    .dataframe tbody tr th {\n",
              "        vertical-align: top;\n",
              "    }\n",
              "\n",
              "    .dataframe thead th {\n",
              "        text-align: right;\n",
              "    }\n",
              "</style>\n",
              "<table border=\"1\" class=\"dataframe\">\n",
              "  <thead>\n",
              "    <tr style=\"text-align: right;\">\n",
              "      <th></th>\n",
              "      <th>customerID</th>\n",
              "      <th>gender</th>\n",
              "      <th>SeniorCitizen</th>\n",
              "      <th>Partner</th>\n",
              "      <th>Dependents</th>\n",
              "      <th>tenure</th>\n",
              "      <th>PhoneService</th>\n",
              "      <th>MultipleLines</th>\n",
              "      <th>InternetService</th>\n",
              "      <th>OnlineSecurity</th>\n",
              "      <th>...</th>\n",
              "      <th>DeviceProtection</th>\n",
              "      <th>TechSupport</th>\n",
              "      <th>StreamingTV</th>\n",
              "      <th>StreamingMovies</th>\n",
              "      <th>Contract</th>\n",
              "      <th>PaperlessBilling</th>\n",
              "      <th>PaymentMethod</th>\n",
              "      <th>MonthlyCharges</th>\n",
              "      <th>TotalCharges</th>\n",
              "      <th>Churn</th>\n",
              "    </tr>\n",
              "  </thead>\n",
              "  <tbody>\n",
              "    <tr>\n",
              "      <th>count</th>\n",
              "      <td>7043</td>\n",
              "      <td>7043</td>\n",
              "      <td>7043.000000</td>\n",
              "      <td>7043</td>\n",
              "      <td>7043</td>\n",
              "      <td>7043.000000</td>\n",
              "      <td>7043</td>\n",
              "      <td>7043</td>\n",
              "      <td>7043</td>\n",
              "      <td>7043</td>\n",
              "      <td>...</td>\n",
              "      <td>7043</td>\n",
              "      <td>7043</td>\n",
              "      <td>7043</td>\n",
              "      <td>7043</td>\n",
              "      <td>7043</td>\n",
              "      <td>7043</td>\n",
              "      <td>7043</td>\n",
              "      <td>7043.000000</td>\n",
              "      <td>7043.000000</td>\n",
              "      <td>7043</td>\n",
              "    </tr>\n",
              "    <tr>\n",
              "      <th>unique</th>\n",
              "      <td>7043</td>\n",
              "      <td>2</td>\n",
              "      <td>NaN</td>\n",
              "      <td>2</td>\n",
              "      <td>2</td>\n",
              "      <td>NaN</td>\n",
              "      <td>2</td>\n",
              "      <td>3</td>\n",
              "      <td>3</td>\n",
              "      <td>3</td>\n",
              "      <td>...</td>\n",
              "      <td>3</td>\n",
              "      <td>3</td>\n",
              "      <td>3</td>\n",
              "      <td>3</td>\n",
              "      <td>3</td>\n",
              "      <td>2</td>\n",
              "      <td>4</td>\n",
              "      <td>NaN</td>\n",
              "      <td>NaN</td>\n",
              "      <td>2</td>\n",
              "    </tr>\n",
              "    <tr>\n",
              "      <th>top</th>\n",
              "      <td>7590-VHVEG</td>\n",
              "      <td>Male</td>\n",
              "      <td>NaN</td>\n",
              "      <td>No</td>\n",
              "      <td>No</td>\n",
              "      <td>NaN</td>\n",
              "      <td>Yes</td>\n",
              "      <td>No</td>\n",
              "      <td>Fiber optic</td>\n",
              "      <td>No</td>\n",
              "      <td>...</td>\n",
              "      <td>No</td>\n",
              "      <td>No</td>\n",
              "      <td>No</td>\n",
              "      <td>No</td>\n",
              "      <td>Month-to-month</td>\n",
              "      <td>Yes</td>\n",
              "      <td>Electronic check</td>\n",
              "      <td>NaN</td>\n",
              "      <td>NaN</td>\n",
              "      <td>No</td>\n",
              "    </tr>\n",
              "    <tr>\n",
              "      <th>freq</th>\n",
              "      <td>1</td>\n",
              "      <td>3555</td>\n",
              "      <td>NaN</td>\n",
              "      <td>3641</td>\n",
              "      <td>4933</td>\n",
              "      <td>NaN</td>\n",
              "      <td>6361</td>\n",
              "      <td>3390</td>\n",
              "      <td>3096</td>\n",
              "      <td>3498</td>\n",
              "      <td>...</td>\n",
              "      <td>3095</td>\n",
              "      <td>3473</td>\n",
              "      <td>2810</td>\n",
              "      <td>2785</td>\n",
              "      <td>3875</td>\n",
              "      <td>4171</td>\n",
              "      <td>2365</td>\n",
              "      <td>NaN</td>\n",
              "      <td>NaN</td>\n",
              "      <td>5174</td>\n",
              "    </tr>\n",
              "    <tr>\n",
              "      <th>mean</th>\n",
              "      <td>NaN</td>\n",
              "      <td>NaN</td>\n",
              "      <td>0.162147</td>\n",
              "      <td>NaN</td>\n",
              "      <td>NaN</td>\n",
              "      <td>32.371149</td>\n",
              "      <td>NaN</td>\n",
              "      <td>NaN</td>\n",
              "      <td>NaN</td>\n",
              "      <td>NaN</td>\n",
              "      <td>...</td>\n",
              "      <td>NaN</td>\n",
              "      <td>NaN</td>\n",
              "      <td>NaN</td>\n",
              "      <td>NaN</td>\n",
              "      <td>NaN</td>\n",
              "      <td>NaN</td>\n",
              "      <td>NaN</td>\n",
              "      <td>64.761692</td>\n",
              "      <td>2279.734304</td>\n",
              "      <td>NaN</td>\n",
              "    </tr>\n",
              "    <tr>\n",
              "      <th>std</th>\n",
              "      <td>NaN</td>\n",
              "      <td>NaN</td>\n",
              "      <td>0.368612</td>\n",
              "      <td>NaN</td>\n",
              "      <td>NaN</td>\n",
              "      <td>24.559481</td>\n",
              "      <td>NaN</td>\n",
              "      <td>NaN</td>\n",
              "      <td>NaN</td>\n",
              "      <td>NaN</td>\n",
              "      <td>...</td>\n",
              "      <td>NaN</td>\n",
              "      <td>NaN</td>\n",
              "      <td>NaN</td>\n",
              "      <td>NaN</td>\n",
              "      <td>NaN</td>\n",
              "      <td>NaN</td>\n",
              "      <td>NaN</td>\n",
              "      <td>30.090047</td>\n",
              "      <td>2266.794470</td>\n",
              "      <td>NaN</td>\n",
              "    </tr>\n",
              "    <tr>\n",
              "      <th>min</th>\n",
              "      <td>NaN</td>\n",
              "      <td>NaN</td>\n",
              "      <td>0.000000</td>\n",
              "      <td>NaN</td>\n",
              "      <td>NaN</td>\n",
              "      <td>0.000000</td>\n",
              "      <td>NaN</td>\n",
              "      <td>NaN</td>\n",
              "      <td>NaN</td>\n",
              "      <td>NaN</td>\n",
              "      <td>...</td>\n",
              "      <td>NaN</td>\n",
              "      <td>NaN</td>\n",
              "      <td>NaN</td>\n",
              "      <td>NaN</td>\n",
              "      <td>NaN</td>\n",
              "      <td>NaN</td>\n",
              "      <td>NaN</td>\n",
              "      <td>18.250000</td>\n",
              "      <td>0.000000</td>\n",
              "      <td>NaN</td>\n",
              "    </tr>\n",
              "    <tr>\n",
              "      <th>25%</th>\n",
              "      <td>NaN</td>\n",
              "      <td>NaN</td>\n",
              "      <td>0.000000</td>\n",
              "      <td>NaN</td>\n",
              "      <td>NaN</td>\n",
              "      <td>9.000000</td>\n",
              "      <td>NaN</td>\n",
              "      <td>NaN</td>\n",
              "      <td>NaN</td>\n",
              "      <td>NaN</td>\n",
              "      <td>...</td>\n",
              "      <td>NaN</td>\n",
              "      <td>NaN</td>\n",
              "      <td>NaN</td>\n",
              "      <td>NaN</td>\n",
              "      <td>NaN</td>\n",
              "      <td>NaN</td>\n",
              "      <td>NaN</td>\n",
              "      <td>35.500000</td>\n",
              "      <td>398.550000</td>\n",
              "      <td>NaN</td>\n",
              "    </tr>\n",
              "    <tr>\n",
              "      <th>50%</th>\n",
              "      <td>NaN</td>\n",
              "      <td>NaN</td>\n",
              "      <td>0.000000</td>\n",
              "      <td>NaN</td>\n",
              "      <td>NaN</td>\n",
              "      <td>29.000000</td>\n",
              "      <td>NaN</td>\n",
              "      <td>NaN</td>\n",
              "      <td>NaN</td>\n",
              "      <td>NaN</td>\n",
              "      <td>...</td>\n",
              "      <td>NaN</td>\n",
              "      <td>NaN</td>\n",
              "      <td>NaN</td>\n",
              "      <td>NaN</td>\n",
              "      <td>NaN</td>\n",
              "      <td>NaN</td>\n",
              "      <td>NaN</td>\n",
              "      <td>70.350000</td>\n",
              "      <td>1394.550000</td>\n",
              "      <td>NaN</td>\n",
              "    </tr>\n",
              "    <tr>\n",
              "      <th>75%</th>\n",
              "      <td>NaN</td>\n",
              "      <td>NaN</td>\n",
              "      <td>0.000000</td>\n",
              "      <td>NaN</td>\n",
              "      <td>NaN</td>\n",
              "      <td>55.000000</td>\n",
              "      <td>NaN</td>\n",
              "      <td>NaN</td>\n",
              "      <td>NaN</td>\n",
              "      <td>NaN</td>\n",
              "      <td>...</td>\n",
              "      <td>NaN</td>\n",
              "      <td>NaN</td>\n",
              "      <td>NaN</td>\n",
              "      <td>NaN</td>\n",
              "      <td>NaN</td>\n",
              "      <td>NaN</td>\n",
              "      <td>NaN</td>\n",
              "      <td>89.850000</td>\n",
              "      <td>3786.600000</td>\n",
              "      <td>NaN</td>\n",
              "    </tr>\n",
              "    <tr>\n",
              "      <th>max</th>\n",
              "      <td>NaN</td>\n",
              "      <td>NaN</td>\n",
              "      <td>1.000000</td>\n",
              "      <td>NaN</td>\n",
              "      <td>NaN</td>\n",
              "      <td>72.000000</td>\n",
              "      <td>NaN</td>\n",
              "      <td>NaN</td>\n",
              "      <td>NaN</td>\n",
              "      <td>NaN</td>\n",
              "      <td>...</td>\n",
              "      <td>NaN</td>\n",
              "      <td>NaN</td>\n",
              "      <td>NaN</td>\n",
              "      <td>NaN</td>\n",
              "      <td>NaN</td>\n",
              "      <td>NaN</td>\n",
              "      <td>NaN</td>\n",
              "      <td>118.750000</td>\n",
              "      <td>8684.800000</td>\n",
              "      <td>NaN</td>\n",
              "    </tr>\n",
              "  </tbody>\n",
              "</table>\n",
              "<p>11 rows × 21 columns</p>\n",
              "</div>"
            ],
            "text/plain": [
              "        customerID gender  SeniorCitizen Partner Dependents       tenure  \\\n",
              "count         7043   7043    7043.000000    7043       7043  7043.000000   \n",
              "unique        7043      2            NaN       2          2          NaN   \n",
              "top     7590-VHVEG   Male            NaN      No         No          NaN   \n",
              "freq             1   3555            NaN    3641       4933          NaN   \n",
              "mean           NaN    NaN       0.162147     NaN        NaN    32.371149   \n",
              "std            NaN    NaN       0.368612     NaN        NaN    24.559481   \n",
              "min            NaN    NaN       0.000000     NaN        NaN     0.000000   \n",
              "25%            NaN    NaN       0.000000     NaN        NaN     9.000000   \n",
              "50%            NaN    NaN       0.000000     NaN        NaN    29.000000   \n",
              "75%            NaN    NaN       0.000000     NaN        NaN    55.000000   \n",
              "max            NaN    NaN       1.000000     NaN        NaN    72.000000   \n",
              "\n",
              "       PhoneService MultipleLines InternetService OnlineSecurity  ...  \\\n",
              "count          7043          7043            7043           7043  ...   \n",
              "unique            2             3               3              3  ...   \n",
              "top             Yes            No     Fiber optic             No  ...   \n",
              "freq           6361          3390            3096           3498  ...   \n",
              "mean            NaN           NaN             NaN            NaN  ...   \n",
              "std             NaN           NaN             NaN            NaN  ...   \n",
              "min             NaN           NaN             NaN            NaN  ...   \n",
              "25%             NaN           NaN             NaN            NaN  ...   \n",
              "50%             NaN           NaN             NaN            NaN  ...   \n",
              "75%             NaN           NaN             NaN            NaN  ...   \n",
              "max             NaN           NaN             NaN            NaN  ...   \n",
              "\n",
              "       DeviceProtection TechSupport StreamingTV StreamingMovies  \\\n",
              "count              7043        7043        7043            7043   \n",
              "unique                3           3           3               3   \n",
              "top                  No          No          No              No   \n",
              "freq               3095        3473        2810            2785   \n",
              "mean                NaN         NaN         NaN             NaN   \n",
              "std                 NaN         NaN         NaN             NaN   \n",
              "min                 NaN         NaN         NaN             NaN   \n",
              "25%                 NaN         NaN         NaN             NaN   \n",
              "50%                 NaN         NaN         NaN             NaN   \n",
              "75%                 NaN         NaN         NaN             NaN   \n",
              "max                 NaN         NaN         NaN             NaN   \n",
              "\n",
              "              Contract PaperlessBilling     PaymentMethod MonthlyCharges  \\\n",
              "count             7043             7043              7043    7043.000000   \n",
              "unique               3                2                 4            NaN   \n",
              "top     Month-to-month              Yes  Electronic check            NaN   \n",
              "freq              3875             4171              2365            NaN   \n",
              "mean               NaN              NaN               NaN      64.761692   \n",
              "std                NaN              NaN               NaN      30.090047   \n",
              "min                NaN              NaN               NaN      18.250000   \n",
              "25%                NaN              NaN               NaN      35.500000   \n",
              "50%                NaN              NaN               NaN      70.350000   \n",
              "75%                NaN              NaN               NaN      89.850000   \n",
              "max                NaN              NaN               NaN     118.750000   \n",
              "\n",
              "        TotalCharges  Churn  \n",
              "count    7043.000000   7043  \n",
              "unique           NaN      2  \n",
              "top              NaN     No  \n",
              "freq             NaN   5174  \n",
              "mean     2279.734304    NaN  \n",
              "std      2266.794470    NaN  \n",
              "min         0.000000    NaN  \n",
              "25%       398.550000    NaN  \n",
              "50%      1394.550000    NaN  \n",
              "75%      3786.600000    NaN  \n",
              "max      8684.800000    NaN  \n",
              "\n",
              "[11 rows x 21 columns]"
            ]
          },
          "execution_count": 12,
          "metadata": {},
          "output_type": "execute_result"
        }
      ],
      "source": [
        "df_2.describe(include='all')"
      ]
    },
    {
      "cell_type": "markdown",
      "metadata": {
        "id": "uu-22o-GnUYD"
      },
      "source": [
        "`PhoneService`와 `MultipleLines` 열에서 고유한 값 조합을 계산합니다.\n"
      ]
    },
    {
      "cell_type": "code",
      "execution_count": null,
      "metadata": {
        "colab": {
          "base_uri": "https://localhost:8080/"
        },
        "id": "r30OgVoKYEXK",
        "outputId": "b0ad36a2-256b-4f73-c855-ffcd3984fd3d"
      },
      "outputs": [
        {
          "data": {
            "text/plain": [
              "PhoneService  MultipleLines   \n",
              "Yes           No                  3390\n",
              "              Yes                 2971\n",
              "No            No phone service     682\n",
              "Name: count, dtype: int64"
            ]
          },
          "execution_count": 13,
          "metadata": {},
          "output_type": "execute_result"
        }
      ],
      "source": [
        "df_2.value_counts(['PhoneService','MultipleLines'])"
      ]
    },
    {
      "cell_type": "markdown",
      "metadata": {
        "id": "OA-NM2kWnUYE"
      },
      "source": [
        "더 많은 열에 대한 값 개수를 계산합니다. 해석을 쉽게 하기 위해 이 작업을 쌍으로 또는 세 개씩 묶어 탐색하는 것이 좋습니다.\n"
      ]
    },
    {
      "cell_type": "code",
      "execution_count": null,
      "metadata": {
        "colab": {
          "base_uri": "https://localhost:8080/"
        },
        "id": "sVyUx6GjYPxS",
        "outputId": "8a1dbc1c-5faf-4a0a-eb46-8886d5359e67"
      },
      "outputs": [
        {
          "data": {
            "text/plain": [
              "InternetService  OnlineSecurity       OnlineBackup         StreamingTV          StreamingMovies    \n",
              "No               No internet service  No internet service  No internet service  No internet service    1526\n",
              "Fiber optic      No                   No                   No                   No                      521\n",
              "                                                           Yes                  Yes                     455\n",
              "DSL              No                   No                   No                   No                      453\n",
              "Fiber optic      No                   Yes                  Yes                  Yes                     428\n",
              "                 Yes                  Yes                  Yes                  Yes                     270\n",
              "DSL              Yes                  No                   No                   No                      246\n",
              "                                      Yes                  No                   No                      233\n",
              "Fiber optic      No                   No                   No                   Yes                     215\n",
              "                                                           Yes                  No                      212\n",
              "DSL              Yes                  Yes                  Yes                  Yes                     209\n",
              "Fiber optic      No                   Yes                  No                   No                      192\n",
              "DSL              No                   Yes                  No                   No                      181\n",
              "Fiber optic      Yes                  No                   Yes                  Yes                     157\n",
              "DSL              No                   No                   Yes                  Yes                     144\n",
              "                 Yes                  No                   Yes                  Yes                     139\n",
              "                 No                   Yes                  Yes                  Yes                     138\n",
              "Fiber optic      No                   Yes                  Yes                  No                      119\n",
              "                                                           No                   Yes                     115\n",
              "                 Yes                  No                   No                   No                      107\n",
              "DSL              Yes                  Yes                  No                   Yes                     100\n",
              "                 No                   No                   No                   Yes                     100\n",
              "                                                           Yes                  No                       95\n",
              "                 Yes                  Yes                  Yes                  No                       95\n",
              "                                      No                   No                   Yes                      88\n",
              "Fiber optic      Yes                  Yes                  No                   No                       85\n",
              "DSL              Yes                  No                   Yes                  No                       70\n",
              "                 No                   Yes                  Yes                  No                       67\n",
              "Fiber optic      Yes                  Yes                  No                   Yes                      67\n",
              "                                                           Yes                  No                       67\n",
              "DSL              No                   Yes                  No                   Yes                      63\n",
              "Fiber optic      Yes                  No                   No                   Yes                      44\n",
              "                                                           Yes                  No                       42\n",
              "dtype: int64"
            ]
          },
          "execution_count": 17,
          "metadata": {},
          "output_type": "execute_result"
        }
      ],
      "source": [
        "df_2.value_counts(['InternetService', 'OnlineSecurity', 'OnlineBackup', 'StreamingTV', 'StreamingMovies'])"
      ]
    },
    {
      "cell_type": "markdown",
      "metadata": {
        "id": "uJIJAGDqnUYF"
      },
      "source": [
        "계약 유형에 따라 통신사를 떠난 고객과 그렇지 않은 고객의 비율을 이해하기 위해 누적 막대 그래프를 생성합니다.\n"
      ]
    },
    {
      "cell_type": "code",
      "execution_count": null,
      "metadata": {
        "colab": {
          "base_uri": "https://localhost:8080/",
          "height": 566
        },
        "id": "vjbqAgS_YraF",
        "outputId": "074b6d1e-61e2-4362-bec6-8fc4867eba69"
      },
      "outputs": [
        {
          "data": {
            "text/plain": [
              "<Axes: xlabel='Contract'>"
            ]
          },
          "execution_count": 14,
          "metadata": {},
          "output_type": "execute_result"
        },
        {
          "data": {
            "image/png": "[encoded data removed]",
            "text/plain": [
              "<Figure size 640x480 with 1 Axes>"
            ]
          },
          "metadata": {},
          "output_type": "display_data"
        }
      ],
      "source": [
        "(df_2.groupby('Contract')['Churn'].value_counts(normalize=True)\n",
        "  .unstack('Churn')\n",
        "  .plot.bar(stacked=True))\n"
      ]
    },
    {
      "cell_type": "markdown",
      "metadata": {
        "id": "n5Ko-Lz_nUYH"
      },
      "source": [
        "특성 이름을 입력 매개변수로 사용하여 위의 분포 차트를 생성하는 함수를 만듭니다. 이를 통해 다른 특성에 대한 차트를 반복하지 않고 더 빠르게 생성할 수 있습니다.\n"
      ]
    },
    {
      "cell_type": "code",
      "execution_count": null,
      "metadata": {
        "id": "lFGctPI7Ywe8"
      },
      "outputs": [],
      "source": [
        "def plot_cat_feature_dist(feature_name):\n",
        "  (df_2.groupby(feature_name)['Churn'].value_counts(normalize=True)\n",
        "    .unstack('Churn')\n",
        "    .plot.bar(stacked=True))\n"
      ]
    },
    {
      "cell_type": "markdown",
      "metadata": {
        "id": "LmHtV4LBnUYM"
      },
      "source": [
        "새 함수가 이전과 동일한 차트를 반환하는지 확인합니다.\n"
      ]
    },
    {
      "cell_type": "code",
      "execution_count": null,
      "metadata": {
        "colab": {
          "base_uri": "https://localhost:8080/",
          "height": 548
        },
        "id": "xkozPyQUZPU5",
        "outputId": "b2e05311-3070-4740-e04c-09f404c7f867"
      },
      "outputs": [
        {
          "data": {
            "image/png": "[encoded data removed]",
            "text/plain": [
              "<Figure size 640x480 with 1 Axes>"
            ]
          },
          "metadata": {},
          "output_type": "display_data"
        }
      ],
      "source": [
        "plot_cat_feature_dist('Contract')"
      ]
    },
    {
      "cell_type": "markdown",
      "metadata": {
        "id": "xisVQGR-nUYN"
      },
      "source": [
        "각 고객의 평균 월 청구액을 계산한 후, 현재 청구액과 평균 월 청구액의 차이를 계산하여 시간이 지나면서 청구액이 어떻게 변했는지 파악합니다.\n"
      ]
    },
    {
      "cell_type": "code",
      "execution_count": null,
      "metadata": {
        "colab": {
          "base_uri": "https://localhost:8080/"
        },
        "id": "Udm4pK7BZSHF",
        "outputId": "ec92f1b2-c5a1-4139-ed5c-156737fd1184"
      },
      "outputs": [
        {
          "data": {
            "text/plain": [
              "count    7032.000000\n",
              "mean       -0.001215\n",
              "std         2.616165\n",
              "min       -18.900000\n",
              "25%        -1.160179\n",
              "50%         0.000000\n",
              "75%         1.147775\n",
              "max        19.125000\n",
              "Name: DiffCharges, dtype: float64"
            ]
          },
          "execution_count": 17,
          "metadata": {},
          "output_type": "execute_result"
        }
      ],
      "source": [
        "df_2['AvgMonthlyCharge'] = df_2['TotalCharges']/df_2['tenure']\n",
        "df_2['DiffCharges'] = df_2['MonthlyCharges']-df_2['AvgMonthlyCharge']\n",
        "df_2['DiffCharges'].describe()\n"
      ]
    },
    {
      "cell_type": "markdown",
      "metadata": {
        "id": "YfvUuPFgnUYO"
      },
      "source": [
        "`tenure` 값이 0.0인 경우 `np.inf` 값을 대체하고 `AvgMonthlyCharge`와 `DiffCharges` 열을 다시 계산합니다.\n"
      ]
    },
    {
      "cell_type": "code",
      "execution_count": null,
      "metadata": {
        "colab": {
          "base_uri": "https://localhost:8080/"
        },
        "id": "7SOMcgccZd2x",
        "outputId": "da5ab261-7ce7-4b13-ff7f-193631575e06"
      },
      "outputs": [
        {
          "data": {
            "text/plain": [
              "count    7032.000000\n",
              "mean       -0.001215\n",
              "std         2.616165\n",
              "min       -18.900000\n",
              "25%        -1.160179\n",
              "50%         0.000000\n",
              "75%         1.147775\n",
              "max        19.125000\n",
              "Name: DiffCharges, dtype: float64"
            ]
          },
          "execution_count": 18,
          "metadata": {},
          "output_type": "execute_result"
        }
      ],
      "source": [
        "df_2['AvgMonthlyCharge'] = df_2['TotalCharges'].div(df_2['tenure']).replace(np.inf,0)\n",
        "df_2['DiffCharges'] = df_2['MonthlyCharges']-df_2['AvgMonthlyCharge']\n",
        "df_2['DiffCharges'].describe()\n"
      ]
    },
    {
      "cell_type": "markdown",
      "metadata": {
        "id": "L4xqVwmRnUYQ"
      },
      "source": [
        "`cut()` 메서드를 사용하여 `DiffCharges` 열을 5개의 버킷으로 나누고, 이전에 정의한 `plot_cat_feature_dist` 함수를 사용하여 각 버킷에서 계정을 취소한 고객 비율을 시각화합니다.\n",
        "\n",
        "**경고**: Pandas의 향후 버전에서는 `pd.cut`의 첫 번째 입력에 대한 예상 데이터 유형이 변경될 예정입니다. `TypeError`가 발생하면 주석 처리된 코드를 대신 실행하세요.\n"
      ]
    },
    {
      "cell_type": "code",
      "execution_count": null,
      "metadata": {
        "colab": {
          "base_uri": "https://localhost:8080/",
          "height": 562
        },
        "id": "CFcdKiCyZmtj",
        "outputId": "1370773a-a132-4e39-d638-d4585b26f0df"
      },
      "outputs": [
        {
          "name": "stderr",
          "output_type": "stream",
          "text": [
            "/tmp/ipykernel_81140/3210634970.py:2: FutureWarning: The default of observed=False is deprecated and will be changed to True in a future version of pandas. Pass observed=False to retain current behavior or observed=True to adopt the future default and silence this warning.\n",
            "  (df_2.groupby(feature_name)['Churn'].value_counts(normalize=True)\n"
          ]
        },
        {
          "data": {
            "image/png": "[encoded data removed]",
            "text/plain": [
              "<Figure size 640x480 with 1 Axes>"
            ]
          },
          "metadata": {},
          "output_type": "display_data"
        }
      ],
      "source": [
        "df_2['DiffBuckets'] = pd.cut(df_2['DiffCharges'], bins=5)\n",
        "plot_cat_feature_dist('DiffBuckets')\n",
        "\n",
        "# df_2['DiffBuckets'] = pd.cut(df_2['DiffCharges'].values, bins=5)\n",
        "# plot_cat_feature_dist('DiffBuckets')"
      ]
    },
    {
      "cell_type": "markdown",
      "metadata": {
        "id": "0mBTIVwgnUYQ"
      },
      "source": [
        "`MonthlyCharges` 열에 대해 동일한 버킷화 및 플로팅 작업을 수행합니다.\n"
      ]
    },
    {
      "cell_type": "code",
      "execution_count": null,
      "metadata": {
        "colab": {
          "base_uri": "https://localhost:8080/",
          "height": 543
        },
        "id": "tQ8tVvi8a1th",
        "outputId": "2aaad6ca-b9c2-47e1-e32e-6ca10ff5459f"
      },
      "outputs": [
        {
          "name": "stderr",
          "output_type": "stream",
          "text": [
            "/tmp/ipykernel_81140/3210634970.py:2: FutureWarning: The default of observed=False is deprecated and will be changed to True in a future version of pandas. Pass observed=False to retain current behavior or observed=True to adopt the future default and silence this warning.\n",
            "  (df_2.groupby(feature_name)['Churn'].value_counts(normalize=True)\n"
          ]
        },
        {
          "data": {
            "image/png": "[encoded data removed]",
            "text/plain": [
              "<Figure size 640x480 with 1 Axes>"
            ]
          },
          "metadata": {},
          "output_type": "display_data"
        }
      ],
      "source": [
        "df_2['MonthlyBuckets'] = pd.cut(df_2['MonthlyCharges'], bins=3)\n",
        "plot_cat_feature_dist('MonthlyBuckets')\n"
      ]
    },
    {
      "cell_type": "markdown",
      "metadata": {
        "id": "ilMdzFyVnUYR"
      },
      "source": [
        "## 판다스와 사이킷런으로 특징 변환하기\n",
        "\n",
        "이제 데이터셋의 다양한 열을 탐색하고, 이들 간의 상호작용과 레이블과의 관계를 살펴보았습니다. 이제는 데이터를 사용자 정의 모델에 사용할 수 있도록 준비할 것입니다. 먼저, ML 모델 훈련에 사용할 열을 선택하고, 그 다음에 그 특징들을 훈련에 더 적합한 형태로 변환할 것입니다.\n"
      ]
    },
    {
      "cell_type": "markdown",
      "metadata": {
        "id": "Vm3HuttNnUYR"
      },
      "source": [
        "목표와 관련이 없거나 중복되는 열을 삭제합니다."
      ]
    },
    {
      "cell_type": "code",
      "execution_count": null,
      "metadata": {
        "colab": {
          "base_uri": "https://localhost:8080/"
        },
        "id": "hPFOjHo9a37_",
        "outputId": "c4f50de0-4cae-4e45-a296-e7ec31241e76"
      },
      "outputs": [
        {
          "data": {
            "text/plain": [
              "Index(['customerID', 'SeniorCitizen', 'Partner', 'Dependents', 'tenure',\n",
              "       'MultipleLines', 'InternetService', 'OnlineSecurity', 'OnlineBackup',\n",
              "       'DeviceProtection', 'TechSupport', 'Contract', 'PaperlessBilling',\n",
              "       'PaymentMethod', 'MonthlyCharges', 'TotalCharges', 'Churn',\n",
              "       'AvgMonthlyCharge', 'DiffCharges', 'DiffBuckets', 'MonthlyBuckets'],\n",
              "      dtype='object')"
            ]
          },
          "execution_count": 26,
          "metadata": {},
          "output_type": "execute_result"
        }
      ],
      "source": [
        "df_3 = df_2.copy()\n",
        "df_3 = df_3.drop(columns=['gender','StreamingTV',\n",
        "                          'StreamingMovies','PhoneService'])\n",
        "df_3.columns\n"
      ]
    },
    {
      "cell_type": "markdown",
      "metadata": {
        "id": "OPHimqUwnUYS"
      },
      "source": [
        "최종 모델에 유용하지 않은 시각화를 위해 사용된 계산된 열을 삭제합니다.\n"
      ]
    },
    {
      "cell_type": "code",
      "execution_count": null,
      "metadata": {
        "id": "UpdxPtvha8Ht"
      },
      "outputs": [],
      "source": [
        "df_3 =df_3.drop(columns=['TotalCharges','AvgMonthlyCharge',\n",
        "                         'DiffCharges','MonthlyBuckets'])\n"
      ]
    },
    {
      "cell_type": "markdown",
      "metadata": {
        "id": "xnNrgF1MnUYT"
      },
      "source": [
        "지나치게 구체적인 `customerID` 열은 머신 러닝 모델을 학습시키는 데 유용하지 않으므로 삭제합니다.\n"
      ]
    },
    {
      "cell_type": "code",
      "execution_count": null,
      "metadata": {
        "colab": {
          "base_uri": "https://localhost:8080/"
        },
        "id": "l0Gptjf0a_Gg",
        "outputId": "1fbcd2e2-15e1-42ee-e405-dc13846e431d"
      },
      "outputs": [
        {
          "data": {
            "text/plain": [
              "SeniorCitizen          int64\n",
              "Partner               object\n",
              "Dependents            object\n",
              "tenure                 int64\n",
              "MultipleLines         object\n",
              "InternetService       object\n",
              "OnlineSecurity        object\n",
              "OnlineBackup          object\n",
              "DeviceProtection      object\n",
              "TechSupport           object\n",
              "Contract              object\n",
              "PaperlessBilling      object\n",
              "PaymentMethod         object\n",
              "MonthlyCharges       float64\n",
              "Churn                 object\n",
              "DiffBuckets         category\n",
              "dtype: object"
            ]
          },
          "execution_count": 28,
          "metadata": {},
          "output_type": "execute_result"
        }
      ],
      "source": [
        "df_3 = df_3.drop(columns=['customerID'])\n",
        "df_3.dtypes"
      ]
    },
    {
      "cell_type": "markdown",
      "metadata": {
        "id": "GXrv-Ra2nUYU"
      },
      "source": [
        "여러 열에서 `No internet service` 값을 `No`로 대체한 후, 해당 열에 이제 정확히 두 가지 가능한 값이 있는지 확인합니다.\n"
      ]
    },
    {
      "cell_type": "code",
      "execution_count": null,
      "metadata": {
        "colab": {
          "base_uri": "https://localhost:8080/"
        },
        "id": "Vvt4vuEkex_D",
        "outputId": "77634926-bc5a-4fb3-d242-59db07473718"
      },
      "outputs": [
        {
          "data": {
            "text/plain": [
              "OnlineSecurity      2\n",
              "OnlineBackup        2\n",
              "DeviceProtection    2\n",
              "TechSupport         2\n",
              "dtype: int64"
            ]
          },
          "execution_count": 29,
          "metadata": {},
          "output_type": "execute_result"
        }
      ],
      "source": [
        "df_prep = df_3.replace('No internet service', 'No')\n",
        "df_prep[['OnlineSecurity', 'OnlineBackup',\n",
        "         'DeviceProtection', 'TechSupport']].nunique()\n"
      ]
    },
    {
      "cell_type": "markdown",
      "metadata": {
        "id": "FtHB2zQtnUYU"
      },
      "source": [
        "수치형 열과 범주형 열을 전처리를 위해 분리합니다. 사이킷런의 `OneHotEncoder` 변환기를 사용하여 범주형 열을 원-핫 인코딩합니다.\n"
      ]
    },
    {
      "cell_type": "code",
      "execution_count": null,
      "metadata": {
        "id": "EWYhIrO6eyc5"
      },
      "outputs": [],
      "source": [
        "from sklearn.preprocessing import OneHotEncoder\n",
        "\n",
        "numeric_columns = ['SeniorCitizen', 'tenure', 'MonthlyCharges']\n",
        "categorical_columns = ['Partner', 'Dependents', 'MultipleLines',\n",
        "                       'InternetService','OnlineSecurity',\n",
        "                       'OnlineBackup','DeviceProtection',\n",
        "                       'TechSupport','Contract','PaperlessBilling',\n",
        "                       'PaymentMethod','DiffBuckets']\n",
        "\n",
        "X_num = df_prep[numeric_columns]\n",
        "X_cat = df_prep[categorical_columns]\n",
        "\n",
        "ohe = OneHotEncoder(drop='if_binary')\n",
        "X_cat_trans = ohe.fit_transform(X_cat)\n"
      ]
    },
    {
      "cell_type": "markdown",
      "metadata": {
        "id": "XOmqkn4unUYW"
      },
      "source": [
        "범주형 특징의 첫 번째 행이 올바르게 인코딩되었으며, 디코딩이 가능한지 확인합니다.\n"
      ]
    },
    {
      "cell_type": "code",
      "execution_count": null,
      "metadata": {
        "colab": {
          "base_uri": "https://localhost:8080/"
        },
        "id": "NSmEwTeeflJq",
        "outputId": "4ba084a8-f05f-4222-8306-a4288381256e"
      },
      "outputs": [
        {
          "data": {
            "text/plain": [
              "array(['Yes', 'No', 'No phone service', 'DSL', 'No', 'Yes', 'No', 'No',\n",
              "       'Month-to-month', 'Yes', 'Electronic check',\n",
              "       Interval(-3.69, 3.915, closed='right')], dtype=object)"
            ]
          },
          "execution_count": 31,
          "metadata": {},
          "output_type": "execute_result"
        }
      ],
      "source": [
        "X_cat_trans.toarray()[0]\n",
        "ohe.inverse_transform(X_cat_trans.toarray())[0]\n"
      ]
    },
    {
      "cell_type": "markdown",
      "metadata": {
        "id": "kghqrUQQnUYX"
      },
      "source": [
        "원-핫 인코딩 후 수치형 특징과 범주형 특징을 다시 결합합니다. 모델을 학습시킬 목적으로 레이블 `Churn`을 별도의 배열로 분리합니다.\n"
      ]
    },
    {
      "cell_type": "code",
      "execution_count": null,
      "metadata": {
        "id": "4jX8WjsvfqAF"
      },
      "outputs": [],
      "source": [
        "X = np.concatenate((X_num.values,X_cat_trans.toarray()), axis=1)\n",
        "y = df_prep['Churn'].values"
      ]
    },
    {
      "cell_type": "markdown",
      "metadata": {
        "id": "WPeQ0xninUYX"
      },
      "source": [
        "`train_test_split` 함수를 사용하여 입력 특징과 레이블을 학습 및 테스트용 데이터셋으로 분리합니다.\n"
      ]
    },
    {
      "cell_type": "code",
      "execution_count": null,
      "metadata": {
        "colab": {
          "base_uri": "https://localhost:8080/"
        },
        "id": "rjIpnTF9f4Ph",
        "outputId": "52ad908e-3f2d-4eae-ee06-70439eefc2ba"
      },
      "outputs": [
        {
          "data": {
            "text/plain": [
              "(5634, 29)"
            ]
          },
          "execution_count": 33,
          "metadata": {},
          "output_type": "execute_result"
        }
      ],
      "source": [
        "from sklearn.model_selection import train_test_split\n",
        "\n",
        "X_train, X_test, y_train, y_test = train_test_split(X,y,test_size=0.20,random_state=113)\n",
        "\n",
        "X_train.shape\n"
      ]
    },
    {
      "cell_type": "markdown",
      "metadata": {
        "id": "M4npdoLnnUYY"
      },
      "source": [
        "## 사이킷런으로 로지스틱 회귀 모델 구축\n",
        "\n",
        "로지스틱 회귀 모델을 생성하고 학습 데이터셋을 사용하여 모델을 학습시킵니다\n"
      ]
    },
    {
      "cell_type": "code",
      "execution_count": null,
      "metadata": {
        "colab": {
          "base_uri": "https://localhost:8080/",
          "height": 218
        },
        "id": "VSeRmdVxgiT9",
        "outputId": "88ee4d92-13f3-4c92-e4c3-7627e24ce76f"
      },
      "outputs": [
        {
          "name": "stderr",
          "output_type": "stream",
          "text": [
            "/home/michaelabel/Projects/low-code-ai/.venv/lib/python3.10/site-packages/sklearn/linear_model/_logistic.py:460: ConvergenceWarning: lbfgs failed to converge (status=1):\n",
            "STOP: TOTAL NO. of ITERATIONS REACHED LIMIT.\n",
            "\n",
            "Increase the number of iterations (max_iter) or scale the data as shown in:\n",
            "    https://scikit-learn.org/stable/modules/preprocessing.html\n",
            "Please also refer to the documentation for alternative solver options:\n",
            "    https://scikit-learn.org/stable/modules/linear_model.html#logistic-regression\n",
            "  n_iter_i = _check_optimize_result(\n"
          ]
        },
        {
          "data": {
            "text/html": [
              "<style>#sk-container-id-1 {color: black;}#sk-container-id-1 pre{padding: 0;}#sk-container-id-1 div.sk-toggleable {background-color: white;}#sk-container-id-1 label.sk-toggleable__label {cursor: pointer;display: block;width: 100%;margin-bottom: 0;padding: 0.3em;box-sizing: border-box;text-align: center;}#sk-container-id-1 label.sk-toggleable__label-arrow:before {content: \"▸\";float: left;margin-right: 0.25em;color: #696969;}#sk-container-id-1 label.sk-toggleable__label-arrow:hover:before {color: black;}#sk-container-id-1 div.sk-estimator:hover label.sk-toggleable__label-arrow:before {color: black;}#sk-container-id-1 div.sk-toggleable__content {max-height: 0;max-width: 0;overflow: hidden;text-align: left;background-color: #f0f8ff;}#sk-container-id-1 div.sk-toggleable__content pre {margin: 0.2em;color: black;border-radius: 0.25em;background-color: #f0f8ff;}#sk-container-id-1 input.sk-toggleable__control:checked~div.sk-toggleable__content {max-height: 200px;max-width: 100%;overflow: auto;}#sk-container-id-1 input.sk-toggleable__control:checked~label.sk-toggleable__label-arrow:before {content: \"▾\";}#sk-container-id-1 div.sk-estimator input.sk-toggleable__control:checked~label.sk-toggleable__label {background-color: #d4ebff;}#sk-container-id-1 div.sk-label input.sk-toggleable__control:checked~label.sk-toggleable__label {background-color: #d4ebff;}#sk-container-id-1 input.sk-hidden--visually {border: 0;clip: rect(1px 1px 1px 1px);clip: rect(1px, 1px, 1px, 1px);height: 1px;margin: -1px;overflow: hidden;padding: 0;position: absolute;width: 1px;}#sk-container-id-1 div.sk-estimator {font-family: monospace;background-color: #f0f8ff;border: 1px dotted black;border-radius: 0.25em;box-sizing: border-box;margin-bottom: 0.5em;}#sk-container-id-1 div.sk-estimator:hover {background-color: #d4ebff;}#sk-container-id-1 div.sk-parallel-item::after {content: \"\";width: 100%;border-bottom: 1px solid gray;flex-grow: 1;}#sk-container-id-1 div.sk-label:hover label.sk-toggleable__label {background-color: #d4ebff;}#sk-container-id-1 div.sk-serial::before {content: \"\";position: absolute;border-left: 1px solid gray;box-sizing: border-box;top: 0;bottom: 0;left: 50%;z-index: 0;}#sk-container-id-1 div.sk-serial {display: flex;flex-direction: column;align-items: center;background-color: white;padding-right: 0.2em;padding-left: 0.2em;position: relative;}#sk-container-id-1 div.sk-item {position: relative;z-index: 1;}#sk-container-id-1 div.sk-parallel {display: flex;align-items: stretch;justify-content: center;background-color: white;position: relative;}#sk-container-id-1 div.sk-item::before, #sk-container-id-1 div.sk-parallel-item::before {content: \"\";position: absolute;border-left: 1px solid gray;box-sizing: border-box;top: 0;bottom: 0;left: 50%;z-index: -1;}#sk-container-id-1 div.sk-parallel-item {display: flex;flex-direction: column;z-index: 1;position: relative;background-color: white;}#sk-container-id-1 div.sk-parallel-item:first-child::after {align-self: flex-end;width: 50%;}#sk-container-id-1 div.sk-parallel-item:last-child::after {align-self: flex-start;width: 50%;}#sk-container-id-1 div.sk-parallel-item:only-child::after {width: 0;}#sk-container-id-1 div.sk-dashed-wrapped {border: 1px dashed gray;margin: 0 0.4em 0.5em 0.4em;box-sizing: border-box;padding-bottom: 0.4em;background-color: white;}#sk-container-id-1 div.sk-label label {font-family: monospace;font-weight: bold;display: inline-block;line-height: 1.2em;}#sk-container-id-1 div.sk-label-container {text-align: center;}#sk-container-id-1 div.sk-container {/* jupyter's `normalize.less` sets `[hidden] { display: none; }` but bootstrap.min.css set `[hidden] { display: none !important; }` so we also need the `!important` here to be able to override the default hidden behavior on the sphinx rendered scikit-learn.org. See: https://github.com/scikit-learn/scikit-learn/issues/21755 */display: inline-block !important;position: relative;}#sk-container-id-1 div.sk-text-repr-fallback {display: none;}</style><div id=\"sk-container-id-1\" class=\"sk-top-container\"><div class=\"sk-text-repr-fallback\"><pre>LogisticRegression()</pre><b>In a Jupyter environment, please rerun this cell to show the HTML representation or trust the notebook. <br />On GitHub, the HTML representation is unable to render, please try loading this page with nbviewer.org.</b></div><div class=\"sk-container\" hidden><div class=\"sk-item\"><div class=\"sk-estimator sk-toggleable\"><input class=\"sk-toggleable__control sk-hidden--visually\" id=\"sk-estimator-id-1\" type=\"checkbox\" checked><label for=\"sk-estimator-id-1\" class=\"sk-toggleable__label sk-toggleable__label-arrow\">LogisticRegression</label><div class=\"sk-toggleable__content\"><pre>LogisticRegression()</pre></div></div></div></div></div>"
            ],
            "text/plain": [
              "LogisticRegression()"
            ]
          },
          "execution_count": 34,
          "metadata": {},
          "output_type": "execute_result"
        }
      ],
      "source": [
        "from sklearn.linear_model import LogisticRegression\n",
        "\n",
        "cls = LogisticRegression()\n",
        "\n",
        "cls.fit(X_train, y_train)\n"
      ]
    },
    {
      "cell_type": "markdown",
      "metadata": {
        "id": "V49Va4qynUYY"
      },
      "source": [
        "로지스틱 회귀 모델을 새로 훈련하기 전에 수치형 특징을 0에서 1 사이의 일정한 범위로 다시 조정하기 위해 min-max 스케일링을 수행합니다.\n"
      ]
    },
    {
      "cell_type": "code",
      "execution_count": null,
      "metadata": {
        "colab": {
          "base_uri": "https://localhost:8080/",
          "height": 74
        },
        "id": "WOA3CW99gyjJ",
        "outputId": "3fb090ab-1cdb-4068-c98c-5f57f51355f1"
      },
      "outputs": [
        {
          "data": {
            "text/html": [
              "<style>#sk-container-id-2 {color: black;}#sk-container-id-2 pre{padding: 0;}#sk-container-id-2 div.sk-toggleable {background-color: white;}#sk-container-id-2 label.sk-toggleable__label {cursor: pointer;display: block;width: 100%;margin-bottom: 0;padding: 0.3em;box-sizing: border-box;text-align: center;}#sk-container-id-2 label.sk-toggleable__label-arrow:before {content: \"▸\";float: left;margin-right: 0.25em;color: #696969;}#sk-container-id-2 label.sk-toggleable__label-arrow:hover:before {color: black;}#sk-container-id-2 div.sk-estimator:hover label.sk-toggleable__label-arrow:before {color: black;}#sk-container-id-2 div.sk-toggleable__content {max-height: 0;max-width: 0;overflow: hidden;text-align: left;background-color: #f0f8ff;}#sk-container-id-2 div.sk-toggleable__content pre {margin: 0.2em;color: black;border-radius: 0.25em;background-color: #f0f8ff;}#sk-container-id-2 input.sk-toggleable__control:checked~div.sk-toggleable__content {max-height: 200px;max-width: 100%;overflow: auto;}#sk-container-id-2 input.sk-toggleable__control:checked~label.sk-toggleable__label-arrow:before {content: \"▾\";}#sk-container-id-2 div.sk-estimator input.sk-toggleable__control:checked~label.sk-toggleable__label {background-color: #d4ebff;}#sk-container-id-2 div.sk-label input.sk-toggleable__control:checked~label.sk-toggleable__label {background-color: #d4ebff;}#sk-container-id-2 input.sk-hidden--visually {border: 0;clip: rect(1px 1px 1px 1px);clip: rect(1px, 1px, 1px, 1px);height: 1px;margin: -1px;overflow: hidden;padding: 0;position: absolute;width: 1px;}#sk-container-id-2 div.sk-estimator {font-family: monospace;background-color: #f0f8ff;border: 1px dotted black;border-radius: 0.25em;box-sizing: border-box;margin-bottom: 0.5em;}#sk-container-id-2 div.sk-estimator:hover {background-color: #d4ebff;}#sk-container-id-2 div.sk-parallel-item::after {content: \"\";width: 100%;border-bottom: 1px solid gray;flex-grow: 1;}#sk-container-id-2 div.sk-label:hover label.sk-toggleable__label {background-color: #d4ebff;}#sk-container-id-2 div.sk-serial::before {content: \"\";position: absolute;border-left: 1px solid gray;box-sizing: border-box;top: 0;bottom: 0;left: 50%;z-index: 0;}#sk-container-id-2 div.sk-serial {display: flex;flex-direction: column;align-items: center;background-color: white;padding-right: 0.2em;padding-left: 0.2em;position: relative;}#sk-container-id-2 div.sk-item {position: relative;z-index: 1;}#sk-container-id-2 div.sk-parallel {display: flex;align-items: stretch;justify-content: center;background-color: white;position: relative;}#sk-container-id-2 div.sk-item::before, #sk-container-id-2 div.sk-parallel-item::before {content: \"\";position: absolute;border-left: 1px solid gray;box-sizing: border-box;top: 0;bottom: 0;left: 50%;z-index: -1;}#sk-container-id-2 div.sk-parallel-item {display: flex;flex-direction: column;z-index: 1;position: relative;background-color: white;}#sk-container-id-2 div.sk-parallel-item:first-child::after {align-self: flex-end;width: 50%;}#sk-container-id-2 div.sk-parallel-item:last-child::after {align-self: flex-start;width: 50%;}#sk-container-id-2 div.sk-parallel-item:only-child::after {width: 0;}#sk-container-id-2 div.sk-dashed-wrapped {border: 1px dashed gray;margin: 0 0.4em 0.5em 0.4em;box-sizing: border-box;padding-bottom: 0.4em;background-color: white;}#sk-container-id-2 div.sk-label label {font-family: monospace;font-weight: bold;display: inline-block;line-height: 1.2em;}#sk-container-id-2 div.sk-label-container {text-align: center;}#sk-container-id-2 div.sk-container {/* jupyter's `normalize.less` sets `[hidden] { display: none; }` but bootstrap.min.css set `[hidden] { display: none !important; }` so we also need the `!important` here to be able to override the default hidden behavior on the sphinx rendered scikit-learn.org. See: https://github.com/scikit-learn/scikit-learn/issues/21755 */display: inline-block !important;position: relative;}#sk-container-id-2 div.sk-text-repr-fallback {display: none;}</style><div id=\"sk-container-id-2\" class=\"sk-top-container\"><div class=\"sk-text-repr-fallback\"><pre>LogisticRegression()</pre><b>In a Jupyter environment, please rerun this cell to show the HTML representation or trust the notebook. <br />On GitHub, the HTML representation is unable to render, please try loading this page with nbviewer.org.</b></div><div class=\"sk-container\" hidden><div class=\"sk-item\"><div class=\"sk-estimator sk-toggleable\"><input class=\"sk-toggleable__control sk-hidden--visually\" id=\"sk-estimator-id-2\" type=\"checkbox\" checked><label for=\"sk-estimator-id-2\" class=\"sk-toggleable__label sk-toggleable__label-arrow\">LogisticRegression</label><div class=\"sk-toggleable__content\"><pre>LogisticRegression()</pre></div></div></div></div></div>"
            ],
            "text/plain": [
              "LogisticRegression()"
            ]
          },
          "execution_count": 35,
          "metadata": {},
          "output_type": "execute_result"
        }
      ],
      "source": [
        "from sklearn.preprocessing import MinMaxScaler\n",
        "\n",
        "scaler = MinMaxScaler()\n",
        "X_train_scaled = scaler.fit_transform(X_train)\n",
        "\n",
        "cls = LogisticRegression()\n",
        "\n",
        "cls.fit(X_train_scaled, y_train)\n"
      ]
    },
    {
      "cell_type": "markdown",
      "metadata": {
        "id": "j0qg3-zknUYZ"
      },
      "source": [
        "`score()` 메서드로 모델을 평가합니다. 이 모델의 $R^2$ 값이 예상보다 훨씬 낮을 것입니다. 왜 그럴까요?\n"
      ]
    },
    {
      "cell_type": "code",
      "execution_count": null,
      "metadata": {
        "colab": {
          "base_uri": "https://localhost:8080/"
        },
        "id": "iYgvhcRkhcZS",
        "outputId": "4ae8b52e-68b9-4eda-b4db-25c84d84d9c8"
      },
      "outputs": [
        {
          "data": {
            "text/plain": [
              "0.48119233498935415"
            ]
          },
          "execution_count": 36,
          "metadata": {},
          "output_type": "execute_result"
        }
      ],
      "source": [
        "cls.score(X_test, y_test)"
      ]
    },
    {
      "cell_type": "markdown",
      "metadata": {
        "id": "O8D6SXHwnUYb"
      },
      "source": [
        "테스트 데이터셋에 학습 데이터셋에 사용한 것과 동일한 변환을 적용하요 크기를 조정합니다.\n"
      ]
    },
    {
      "cell_type": "code",
      "execution_count": null,
      "metadata": {
        "colab": {
          "base_uri": "https://localhost:8080/"
        },
        "id": "T1EKHdLGhs-Y",
        "outputId": "16d9a736-f070-4acc-e4ac-7293a6fc38a6"
      },
      "outputs": [
        {
          "data": {
            "text/plain": [
              "0.7991483321504613"
            ]
          },
          "execution_count": 37,
          "metadata": {},
          "output_type": "execute_result"
        }
      ],
      "source": [
        "X_test_scaled = scaler.transform(X_test)\n",
        "\n",
        "cls.score(X_test_scaled, y_test)"
      ]
    },
    {
      "cell_type": "markdown",
      "metadata": {
        "id": "_0YGdldenUYc"
      },
      "source": [
        "당신이 훈련한 모델에 대한 오차 행렬은 사이킷런으로 쉽게 계산할 수 있습니다.\n",
        "이를 위해서는 sklearn.metrics 라이브러리에서 `confusion_matrix` 함수를 사용할 수 있습니다.\n"
      ]
    },
    {
      "cell_type": "code",
      "execution_count": null,
      "metadata": {
        "colab": {
          "base_uri": "https://localhost:8080/"
        },
        "id": "rM-Im912huh2",
        "outputId": "c88ec1d0-4474-4682-beac-f7ae8eb9c0d0"
      },
      "outputs": [
        {
          "data": {
            "text/plain": [
              "array([[187, 185],\n",
              "       [ 98, 939]])"
            ]
          },
          "execution_count": 38,
          "metadata": {},
          "output_type": "execute_result"
        }
      ],
      "source": [
        "from sklearn.metrics import confusion_matrix\n",
        "\n",
        "y_pred = cls.predict(X_test_scaled)\n",
        "\n",
        "confusion_matrix(y_test, y_pred, labels=['Yes','No'])\n"
      ]
    },
    {
      "cell_type": "markdown",
      "metadata": {
        "id": "bdMQXwSunUYd"
      },
      "source": [
        "사이킷런의 `precision_score` 및 `recall_score` 함수를 활용하여 모델의 정밀도(precision)와 재현율(recall)을 계산합니다\n"
      ]
    },
    {
      "cell_type": "code",
      "execution_count": null,
      "metadata": {
        "colab": {
          "base_uri": "https://localhost:8080/"
        },
        "id": "vd4L3yT7h9MM",
        "outputId": "ac234ca5-570e-4154-83ab-7d57015cad1c"
      },
      "outputs": [
        {
          "name": "stdout",
          "output_type": "stream",
          "text": [
            "Precision: 0.656140350877193\n",
            "Recall: 0.5026881720430108\n"
          ]
        }
      ],
      "source": [
        "from sklearn.metrics import precision_score, recall_score\n",
        "\n",
        "print(\"Precision:\", precision_score(y_test, y_pred,\n",
        "                                    labels=['Yes','No'], pos_label='Yes'))\n",
        "\n",
        "print(\"Recall:\", recall_score(y_test, y_pred,\n",
        "                              labels=['Yes','No'], pos_label='Yes'))\n"
      ]
    },
    {
      "cell_type": "markdown",
      "metadata": {
        "id": "cqbA9tYAnUYd"
      },
      "source": [
        "## 사이킷런으로 학습된 모델로 예측 서비스 제공하기\n",
        "\n",
        "이 데이터를 파싱하고, 앞서 나열된 변환을 수행한 후, 학습된 모델로 예측을 서비스해야 합니다.\n",
        "다음 코드는 `example` 변수에 로드된 JSON 예제를 통해 이 단계를 설명합니다.\n"
      ]
    },
    {
      "cell_type": "code",
      "execution_count": null,
      "metadata": {
        "colab": {
          "base_uri": "https://localhost:8080/"
        },
        "id": "ivG93MGIiAQ1",
        "outputId": "60e6d058-24b6-4bab-d5a0-a9dd80965290"
      },
      "outputs": [
        {
          "data": {
            "text/plain": [
              "array(['Yes', 'Yes', 'Yes', ..., 'Yes', 'Yes', 'Yes'], dtype=object)"
            ]
          },
          "execution_count": 40,
          "metadata": {},
          "output_type": "execute_result"
        }
      ],
      "source": [
        "import json\n",
        "\n",
        "# 책에 있는 예제 코드가 공간 제약으로 인해 약간 다를 수 있습니다.\n",
        "example = json.loads('{\"customerID\": \"7090-HPOJU\", \"gender\": \"Female\", \"SeniorCitizen\": 0, \"Partner\": \"Yes\", \"Dependents\": \"Yes\", \"tenure\": 66,\"PhoneService\": \"Yes\", \"MultipleLines\": \"Yes\", \"InternetService\": \"DSL\",\"OnlineSecurity\": \"Yes\", \"OnlineBackup\": \"Yes\", \"DeviceProtection\": \"Yes\",\"TechSupport\": \"No\", \"StreamingTV\": \"No\", \"StreamingMovies\": \"No\",\"Contract\": \"Month-to-month\", \"PaperlessBilling\": \"Yes\", \"PaymentMethod\": \"Bank transfer (automatic)\", \"MonthlyCharges\": 67.45, \"TotalCharges\": \"4508.65\"}')\n",
        "\n",
        "ex_df = pd.DataFrame([example])\n",
        "ex_df['TotalCharges'] = ex_df['TotalCharges'].astype('float64')\n",
        "ex_df = ex_df.drop(columns=['customerID','gender',\n",
        "                            'StreamingTV','StreamingMovies',\n",
        "                            'PhoneService'])\n",
        "\n",
        "ex_df['AvgMonthlyCharge'] = ex_df['TotalCharges']/ex_df['tenure']\n",
        "ex_df['DiffCharges'] = ex_df['MonthlyCharges']-ex_df['AvgMonthlyCharge']\n",
        "ex_df['DiffBuckets'] = pd.cut(ex_df['DiffCharges'],\n",
        "                           bins=[-18.938,-11.295,-3.69,3.915,11.52,19.125])\n",
        "ex_df.pop('DiffCharges')\n",
        "\n",
        "numeric_columns = ['SeniorCitizen', 'tenure', 'MonthlyCharges']\n",
        "categorical_columns = ['Partner', 'Dependents', 'MultipleLines',\n",
        "                       'InternetService','OnlineSecurity','OnlineBackup',\n",
        "                       'DeviceProtection','TechSupport','Contract',\n",
        "                       'PaperlessBilling','PaymentMethod','DiffBuckets']\n",
        "\n",
        "X_num = df_prep[numeric_columns]\n",
        "X_cat = df_prep[categorical_columns]\n",
        "\n",
        "X_cat_trans = ohe.transform(X_cat)\n",
        "\n",
        "X = np.concatenate((X_num.values,X_cat_trans.toarray()), axis=1)\n",
        "X_scaled = scaler.transform(X)\n",
        "\n",
        "cls.predict(X)\n"
      ]
    },
    {
      "cell_type": "markdown",
      "metadata": {
        "id": "26jv85QKnUYe"
      },
      "source": [
        "학습된 모델인 `cls`와 같은 객체는 `joblib` 패키지를 사용하여 저장할 수 있습니다. `joblib`의 `dump` 메서드는 파이썬 객체를 직렬화하여 디스크에 저장하며, `load` 메서드를 사용하여 다시 불러올 수 있습니다.\n"
      ]
    },
    {
      "cell_type": "code",
      "execution_count": null,
      "metadata": {
        "id": "L_qstGl8i2fJ"
      },
      "outputs": [],
      "source": [
        "import joblib\n",
        "\n",
        "joblib.dump(cls, 'filename.joblib')\n",
        "\n",
        "cls = joblib.load('filename.joblib')\n"
      ]
    },
    {
      "cell_type": "markdown",
      "metadata": {
        "id": "6y1WtGPMnUYi"
      },
      "source": [
        "## 사이킷런의 파이프라인\n",
        "\n",
        "사이킷런의 파이프라인이라는 고급 주제를 다룹니다. 처음에는 이 내용을 선택적으로 읽어보고, 이후 필요시 다시 돌아와서 사이킷런의 변환기를 관리하는 방법을 배우셔도 됩니다.\n",
        "\n",
        "먼저, 판다스의 전처리 로직을 하나의 함수로 결합합니다\n"
      ]
    },
    {
      "cell_type": "code",
      "execution_count": null,
      "metadata": {
        "id": "KEeAZm3Uj7Gc"
      },
      "outputs": [],
      "source": [
        "def transform_fn(df):\n",
        "\n",
        "  df = df.replace({'TotalCharges': {' ': 0.0}})\n",
        "  df = df.astype({'TotalCharges':'float64'})\n",
        "\n",
        "  df['AvgMonthlyCharge']= df['TotalCharges'].div(df['tenure'],\n",
        "                                                      fill_values=0.0)\n",
        "\n",
        "  df['DiffCharges'] = df['MonthlyCharges']-df['AvgMonthlyCharge']\n",
        "\n",
        "  df['DiffBuckets'] = pd.cut(df['DiffCharges'], bins=5)\n",
        "\n",
        "  df = df.drop(columns=['AvgMonthlyCharge', 'gender','StreamingTV',\n",
        "                            'StreamingMovies','PhoneService',\n",
        "                            'customerID', 'DiffCharges'])\n",
        "  return df\n"
      ]
    },
    {
      "cell_type": "markdown",
      "metadata": {
        "id": "f3YJIERBnUYk"
      },
      "source": [
        "이전과 같이 열을 수치형 열과 범주형 열로 분리합니다.\n"
      ]
    },
    {
      "cell_type": "code",
      "execution_count": null,
      "metadata": {
        "id": "FmDJMBX3k-oc"
      },
      "outputs": [],
      "source": [
        "numeric_columns = ['SeniorCitizen', 'tenure', 'MonthlyCharges']\n",
        "categorical_columns = ['Partner', 'Dependents', 'MultipleLines',\n",
        "                      'InternetService','OnlineSecurity',\n",
        "                      'OnlineBackup', 'DeviceProtection',\n",
        "                      'TechSupport','Contract',\n",
        "                      'PaperlessBilling','PaymentMethod',\n",
        "                      'DiffBuckets']\n"
      ]
    },
    {
      "cell_type": "markdown",
      "metadata": {
        "id": "-E-vo5qsnUYl"
      },
      "source": [
        "이제 파이프라인에서 사용할 변환기와 모델을 정의합니다:\n"
      ]
    },
    {
      "cell_type": "code",
      "execution_count": null,
      "metadata": {
        "id": "Gp7PRc6ZlgEU"
      },
      "outputs": [],
      "source": [
        "from sklearn.compose import ColumnTransformer\n",
        "from sklearn.preprocessing import FunctionTransformer\n",
        "\n",
        "\n",
        "fn_transformer = FunctionTransformer(transform_fn)\n",
        "col_transformer = ColumnTransformer(\n",
        "  [('ohe', OneHotEncoder(drop='if_binary'), categorical_columns),\n",
        "  ('sca', MinMaxScaler(), numeric_columns)])\n",
        "model = LogisticRegression()\n"
      ]
    },
    {
      "cell_type": "markdown",
      "metadata": {
        "id": "fz4Vr9n3nUYm"
      },
      "source": [
        "일관된 변환을 모든 데이터에 적용하여 학습시키고 예측을 제공하기 위해 `Pipeline` 객체를 정의합니다. 이전에 선형 회귀 모델에 대해 했던 것처럼 `fit()` 메서드를 사용하여 파이프라인을 학습시킬 수 있습니다.\n"
      ]
    },
    {
      "cell_type": "code",
      "execution_count": null,
      "metadata": {
        "id": "YC9AHEFklkVn"
      },
      "outputs": [],
      "source": [
        "from sklearn.pipeline import Pipeline\n",
        "\n",
        "pipe = Pipeline([('preproc', fn_transformer),\n",
        "                 ('col_trans', col_transformer),\n",
        "                 ('model', model)])\n"
      ]
    },
    {
      "cell_type": "markdown",
      "metadata": {
        "id": "jHQoOPHunUYn"
      },
      "source": [
        "## 케라스를 사용한 신경망 구축\n",
        "\n",
        "이전에는 사이킷런으로 로지스틱 회귀 모델을 구축하고, 사용자 정의 코드를 사용해 첫 번째 머신 러닝 모델을 학습시켰습니다. 이번에는 케라스로 또 다른 유형의 모델을 구축합니다. 케라스는 더 큰 텐서플로 소프트웨어 개발 키트(SDK)의 일부로서 사용자 정의 신경망을 쉽게 구축할 수 있는 프레임워크입니다.\n",
        "\n",
        "먼저, 케라스로 이진 분류 모델을 구축하려면 레이블을 `0` 또는 `1`로 인코딩해야 합니다. 이를 위해 `LabelEncoder` 변환기를 사용할 수 있습니다.\n"
      ]
    },
    {
      "cell_type": "code",
      "execution_count": null,
      "metadata": {
        "colab": {
          "base_uri": "https://localhost:8080/"
        },
        "id": "4BG8OTilmFx7",
        "outputId": "bc49fb90-3178-4d8b-a555-480a07de2d50"
      },
      "outputs": [
        {
          "data": {
            "text/plain": [
              "array(['Yes'], dtype=object)"
            ]
          },
          "execution_count": 48,
          "metadata": {},
          "output_type": "execute_result"
        }
      ],
      "source": [
        "from sklearn.preprocessing import LabelEncoder\n",
        "\n",
        "le = LabelEncoder()\n",
        "y_train_enc = le.fit_transform(y_train)\n",
        "y_test_enc = le.transform(y_test)\n",
        "\n",
        "le.inverse_transform([1])\n"
      ]
    },
    {
      "cell_type": "markdown",
      "metadata": {
        "id": "80n9g5Y8nUYp"
      },
      "source": [
        "이미 넘파이 배열을 사용하고 있으므로 `from_tensor_slices` 메서드를 사용하여 `Dataset`을 생성합니다. 이 메서드는 넘파이 배열을 받아 각 \"슬라이스\"를 학습 데이터셋의 데이터로 취급합니다.\n"
      ]
    },
    {
      "cell_type": "code",
      "execution_count": null,
      "metadata": {
        "id": "Y4PC8Oc2nxVO"
      },
      "outputs": [],
      "source": [
        "import tensorflow as tf\n",
        "import tensorflow.keras as keras\n",
        "\n",
        "train_dataset = tf.data.Dataset.from_tensor_slices((X_train_scaled, y_train_enc)).batch(128)\n",
        "\n",
        "test_dataset = tf.data.Dataset.from_tensor_slices((X_test_scaled, y_test_enc)).batch(1)\n"
      ]
    },
    {
      "cell_type": "markdown",
      "metadata": {
        "id": "Xeo4fOWCnUYq"
      },
      "source": [
        "케라스에서 신경망 레이어를 생성하는 예제 코드\n"
      ]
    },
    {
      "cell_type": "code",
      "execution_count": null,
      "metadata": {
        "colab": {
          "base_uri": "https://localhost:8080/"
        },
        "id": "OYoO7T_MnzZb",
        "outputId": "322b7fac-a20b-48b6-df88-eda71efdcd8a"
      },
      "outputs": [
        {
          "data": {
            "text/plain": [
              "<keras.layers.core.dense.Dense at 0x7f9e9831dae0>"
            ]
          },
          "execution_count": 80,
          "metadata": {},
          "output_type": "execute_result"
        }
      ],
      "source": [
        "keras.layers.Dense(\n",
        "            units=64, input_shape=(29,), activation=\"relu\",\n",
        "            name=\"input_layer\"\n",
        "        )\n"
      ]
    },
    {
      "cell_type": "markdown",
      "metadata": {
        "id": "9xIu93gDnUYr"
      },
      "source": [
        "아래 코드는 각각 64개, 32개, 16개의 뉴런을 가진 세 개의 은닉 계층으로 구성된 신경망을 생성합니다:"
      ]
    },
    {
      "cell_type": "code",
      "execution_count": null,
      "metadata": {
        "id": "PA0l_8Lon2cJ"
      },
      "outputs": [],
      "source": [
        "model = keras.Sequential(\n",
        "    [\n",
        "        keras.layers.Dense(\n",
        "            units=64, input_shape=(29,), activation=\"relu\",\n",
        "            name=\"input_layer\"\n",
        "        ),\n",
        "        keras.layers.Dense(units=32, activation=\"relu\",\n",
        "                           name=\"hidden_1\"),\n",
        "        keras.layers.Dense(units=16, activation=\"relu\",\n",
        "                           name=\"hidden_2\"),\n",
        "        keras.layers.Dense(units=1, activation=\"sigmoid\",\n",
        "                           name=\"output\"),\n",
        "    ]\n",
        ")\n"
      ]
    },
    {
      "cell_type": "markdown",
      "metadata": {
        "id": "i83Py8W4nUYt"
      },
      "source": [
        "신경망 모델 학습에 사용할 손실 함수와 평가 지표를 지정합니다. 학습 준비가 되도록 케라스 모델을 컴파일합니다"
      ]
    },
    {
      "cell_type": "code",
      "execution_count": null,
      "metadata": {
        "id": "_ayTEvyZoCLp"
      },
      "outputs": [],
      "source": [
        "loss_fn = keras.losses.BinaryCrossentropy()\n",
        "metrics = [tf.keras.metrics.BinaryAccuracy(),\n",
        "           tf.keras.metrics.Precision(),\n",
        "           tf.keras.metrics.Recall()]\n",
        "\n",
        "model.compile(optimizer=\"adam\", loss=loss_fn, metrics=metrics)\n"
      ]
    },
    {
      "cell_type": "code",
      "execution_count": null,
      "metadata": {
        "colab": {
          "base_uri": "https://localhost:8080/"
        },
        "id": "SOEZPWNYoLmV",
        "outputId": "71d640da-5bbb-42f1-aa97-223842f07c55"
      },
      "outputs": [
        {
          "name": "stdout",
          "output_type": "stream",
          "text": [
            "Epoch 1/20\n",
            "45/45 [==============================] - 5s 53ms/step - loss: 0.5412 - binary_accuracy: 0.7231 - precision: 0.2110 - recall: 0.0154 - val_loss: 0.4728 - val_binary_accuracy: 0.7537 - val_precision: 0.6923 - val_recall: 0.1210\n",
            "Epoch 2/20\n",
            "45/45 [==============================] - 3s 60ms/step - loss: 0.4466 - binary_accuracy: 0.7792 - precision: 0.6264 - recall: 0.4188 - val_loss: 0.4484 - val_binary_accuracy: 0.7892 - val_precision: 0.6325 - val_recall: 0.4812\n",
            "Epoch 3/20\n",
            "45/45 [==============================] - 3s 61ms/step - loss: 0.4301 - binary_accuracy: 0.7923 - precision: 0.6286 - recall: 0.5337 - val_loss: 0.4434 - val_binary_accuracy: 0.7942 - val_precision: 0.6486 - val_recall: 0.4812\n",
            "Epoch 4/20\n",
            "45/45 [==============================] - 3s 62ms/step - loss: 0.4228 - binary_accuracy: 0.7978 - precision: 0.6398 - recall: 0.5471 - val_loss: 0.4420 - val_binary_accuracy: 0.8006 - val_precision: 0.6655 - val_recall: 0.4919\n",
            "Epoch 5/20\n",
            "45/45 [==============================] - 2s 41ms/step - loss: 0.4176 - binary_accuracy: 0.8033 - precision: 0.6518 - recall: 0.5578 - val_loss: 0.4404 - val_binary_accuracy: 0.7977 - val_precision: 0.6548 - val_recall: 0.4946\n",
            "Epoch 6/20\n",
            "45/45 [==============================] - 2s 40ms/step - loss: 0.4136 - binary_accuracy: 0.8048 - precision: 0.6528 - recall: 0.5665 - val_loss: 0.4396 - val_binary_accuracy: 0.7984 - val_precision: 0.6517 - val_recall: 0.5081\n",
            "Epoch 7/20\n",
            "45/45 [==============================] - 3s 60ms/step - loss: 0.4101 - binary_accuracy: 0.8032 - precision: 0.6504 - recall: 0.5605 - val_loss: 0.4395 - val_binary_accuracy: 0.8020 - val_precision: 0.6587 - val_recall: 0.5188\n",
            "Epoch 8/20\n",
            "45/45 [==============================] - 3s 60ms/step - loss: 0.4071 - binary_accuracy: 0.8053 - precision: 0.6567 - recall: 0.5598 - val_loss: 0.4393 - val_binary_accuracy: 0.7977 - val_precision: 0.6505 - val_recall: 0.5054\n",
            "Epoch 9/20\n",
            "45/45 [==============================] - 3s 62ms/step - loss: 0.4046 - binary_accuracy: 0.8058 - precision: 0.6580 - recall: 0.5605 - val_loss: 0.4395 - val_binary_accuracy: 0.7956 - val_precision: 0.6448 - val_recall: 0.5027\n",
            "Epoch 10/20\n",
            "45/45 [==============================] - 3s 60ms/step - loss: 0.4023 - binary_accuracy: 0.8085 - precision: 0.6653 - recall: 0.5618 - val_loss: 0.4393 - val_binary_accuracy: 0.7913 - val_precision: 0.6327 - val_recall: 0.5000\n",
            "Epoch 11/20\n",
            "45/45 [==============================] - 3s 60ms/step - loss: 0.3998 - binary_accuracy: 0.8103 - precision: 0.6693 - recall: 0.5651 - val_loss: 0.4397 - val_binary_accuracy: 0.7906 - val_precision: 0.6296 - val_recall: 0.5027\n",
            "Epoch 12/20\n",
            "45/45 [==============================] - 3s 61ms/step - loss: 0.3977 - binary_accuracy: 0.8111 - precision: 0.6706 - recall: 0.5685 - val_loss: 0.4403 - val_binary_accuracy: 0.7928 - val_precision: 0.6351 - val_recall: 0.5054\n",
            "Epoch 13/20\n",
            "45/45 [==============================] - 2s 44ms/step - loss: 0.3955 - binary_accuracy: 0.8124 - precision: 0.6738 - recall: 0.5698 - val_loss: 0.4410 - val_binary_accuracy: 0.7942 - val_precision: 0.6395 - val_recall: 0.5054\n",
            "Epoch 14/20\n",
            "45/45 [==============================] - 3s 60ms/step - loss: 0.3935 - binary_accuracy: 0.8138 - precision: 0.6761 - recall: 0.5745 - val_loss: 0.4413 - val_binary_accuracy: 0.7942 - val_precision: 0.6376 - val_recall: 0.5108\n",
            "Epoch 15/20\n",
            "45/45 [==============================] - 3s 60ms/step - loss: 0.3916 - binary_accuracy: 0.8147 - precision: 0.6782 - recall: 0.5758 - val_loss: 0.4422 - val_binary_accuracy: 0.7942 - val_precision: 0.6376 - val_recall: 0.5108\n",
            "Epoch 16/20\n",
            "45/45 [==============================] - 3s 61ms/step - loss: 0.3897 - binary_accuracy: 0.8151 - precision: 0.6793 - recall: 0.5758 - val_loss: 0.4429 - val_binary_accuracy: 0.7942 - val_precision: 0.6331 - val_recall: 0.5242\n",
            "Epoch 17/20\n",
            "45/45 [==============================] - 2s 51ms/step - loss: 0.3879 - binary_accuracy: 0.8140 - precision: 0.6761 - recall: 0.5758 - val_loss: 0.4442 - val_binary_accuracy: 0.7935 - val_precision: 0.6319 - val_recall: 0.5215\n",
            "Epoch 18/20\n",
            "45/45 [==============================] - 3s 63ms/step - loss: 0.3859 - binary_accuracy: 0.8166 - precision: 0.6821 - recall: 0.5805 - val_loss: 0.4447 - val_binary_accuracy: 0.7935 - val_precision: 0.6294 - val_recall: 0.5296\n",
            "Epoch 19/20\n",
            "45/45 [==============================] - 3s 60ms/step - loss: 0.3840 - binary_accuracy: 0.8166 - precision: 0.6824 - recall: 0.5798 - val_loss: 0.4460 - val_binary_accuracy: 0.7935 - val_precision: 0.6278 - val_recall: 0.5349\n",
            "Epoch 20/20\n",
            "45/45 [==============================] - 2s 40ms/step - loss: 0.3819 - binary_accuracy: 0.8186 - precision: 0.6869 - recall: 0.5832 - val_loss: 0.4470 - val_binary_accuracy: 0.7956 - val_precision: 0.6338 - val_recall: 0.5349\n"
          ]
        }
      ],
      "source": [
        "history = model.fit(\n",
        "    x=train_dataset,\n",
        "    epochs=20,\n",
        "    validation_data=test_dataset\n",
        ")\n"
      ]
    },
    {
      "cell_type": "markdown",
      "metadata": {
        "id": "S2fuvSzonUYu"
      },
      "source": [
        "조기 종료를 구현하고 테스트 데이터셋에서 더 이상 개선이 없을 때까지 모델을 재학습 시킵니다."
      ]
    },
    {
      "cell_type": "code",
      "execution_count": null,
      "metadata": {
        "colab": {
          "base_uri": "https://localhost:8080/"
        },
        "id": "GrPiRWr6oM_Z",
        "outputId": "6d1a71d2-ae5f-4137-e841-6292c9841bc8"
      },
      "outputs": [
        {
          "name": "stdout",
          "output_type": "stream",
          "text": [
            "Epoch 1/100\n"
          ]
        },
        {
          "name": "stdout",
          "output_type": "stream",
          "text": [
            "45/45 [==============================] - 3s 38ms/step - loss: 0.5510 - binary_accuracy: 0.7055 - precision: 0.3024 - recall: 0.0828 - val_loss: 0.4554 - val_binary_accuracy: 0.7736 - val_precision: 0.6992 - val_recall: 0.2500\n",
            "Epoch 2/100\n",
            "45/45 [==============================] - 2s 37ms/step - loss: 0.4395 - binary_accuracy: 0.7897 - precision: 0.6408 - recall: 0.4743 - val_loss: 0.4376 - val_binary_accuracy: 0.7956 - val_precision: 0.6429 - val_recall: 0.5081\n",
            "Epoch 3/100\n",
            "45/45 [==============================] - 2s 45ms/step - loss: 0.4261 - binary_accuracy: 0.7998 - precision: 0.6454 - recall: 0.5471 - val_loss: 0.4353 - val_binary_accuracy: 0.7991 - val_precision: 0.6540 - val_recall: 0.5081\n",
            "Epoch 4/100\n",
            "45/45 [==============================] - 1s 34ms/step - loss: 0.4205 - binary_accuracy: 0.8003 - precision: 0.6465 - recall: 0.5484 - val_loss: 0.4337 - val_binary_accuracy: 0.7949 - val_precision: 0.6446 - val_recall: 0.4973\n",
            "Epoch 5/100\n",
            "45/45 [==============================] - 2s 39ms/step - loss: 0.4168 - binary_accuracy: 0.8017 - precision: 0.6520 - recall: 0.5444 - val_loss: 0.4332 - val_binary_accuracy: 0.7949 - val_precision: 0.6466 - val_recall: 0.4919\n",
            "Epoch 6/100\n",
            "45/45 [==============================] - 2s 44ms/step - loss: 0.4138 - binary_accuracy: 0.8039 - precision: 0.6551 - recall: 0.5531 - val_loss: 0.4328 - val_binary_accuracy: 0.7942 - val_precision: 0.6395 - val_recall: 0.5054\n",
            "Epoch 7/100\n",
            "45/45 [==============================] - 1s 32ms/step - loss: 0.4118 - binary_accuracy: 0.8051 - precision: 0.6582 - recall: 0.5544 - val_loss: 0.4325 - val_binary_accuracy: 0.7984 - val_precision: 0.6497 - val_recall: 0.5134\n",
            "Epoch 8/100\n",
            "45/45 [==============================] - 2s 36ms/step - loss: 0.4100 - binary_accuracy: 0.8060 - precision: 0.6601 - recall: 0.5564 - val_loss: 0.4324 - val_binary_accuracy: 0.7999 - val_precision: 0.6541 - val_recall: 0.5134\n",
            "Epoch 9/100\n",
            "45/45 [==============================] - 1s 31ms/step - loss: 0.4082 - binary_accuracy: 0.8078 - precision: 0.6648 - recall: 0.5578 - val_loss: 0.4327 - val_binary_accuracy: 0.7991 - val_precision: 0.6561 - val_recall: 0.5027\n",
            "Epoch 10/100\n",
            "45/45 [==============================] - 1s 30ms/step - loss: 0.4064 - binary_accuracy: 0.8083 - precision: 0.6664 - recall: 0.5578 - val_loss: 0.4328 - val_binary_accuracy: 0.7991 - val_precision: 0.6584 - val_recall: 0.4973\n",
            "Epoch 11/100\n",
            "45/45 [==============================] - 2s 37ms/step - loss: 0.4046 - binary_accuracy: 0.8085 - precision: 0.6683 - recall: 0.5544 - val_loss: 0.4334 - val_binary_accuracy: 0.7970 - val_precision: 0.6536 - val_recall: 0.4919\n",
            "Epoch 12/100\n",
            "45/45 [==============================] - 2s 42ms/step - loss: 0.4028 - binary_accuracy: 0.8088 - precision: 0.6705 - recall: 0.5518 - val_loss: 0.4339 - val_binary_accuracy: 0.7963 - val_precision: 0.6471 - val_recall: 0.5027\n",
            "Epoch 13/100\n",
            "45/45 [==============================] - 2s 40ms/step - loss: 0.4012 - binary_accuracy: 0.8094 - precision: 0.6713 - recall: 0.5538 - val_loss: 0.4345 - val_binary_accuracy: 0.7970 - val_precision: 0.6503 - val_recall: 0.5000\n"
          ]
        }
      ],
      "source": [
        "early_stopping = keras.callbacks.EarlyStopping(patience=5,restore_best_weights=True)\n",
        "\n",
        "history = model.fit(\n",
        "    x=train_dataset,\n",
        "    epochs=100,\n",
        "    validation_data=test_dataset,\n",
        "    callbacks = [early_stopping]\n",
        ")\n"
      ]
    },
    {
      "cell_type": "markdown",
      "metadata": {
        "id": "T4RJaruknUYv"
      },
      "source": [
        "`evaluate()` 메서드를 사용하여 모델을 평가합니다\n"
      ]
    },
    {
      "cell_type": "code",
      "execution_count": null,
      "metadata": {
        "colab": {
          "base_uri": "https://localhost:8080/"
        },
        "id": "t1u_nKAeotzN",
        "outputId": "adc27c24-aa47-4f09-b9e1-907faa4dc3cc"
      },
      "outputs": [
        {
          "name": "stdout",
          "output_type": "stream",
          "text": [
            "   1/1409 [..............................] - ETA: 13s - loss: 0.0376 - binary_accuracy: 1.0000 - precision: 0.0000e+00 - recall: 0.0000e+00"
          ]
        },
        {
          "name": "stdout",
          "output_type": "stream",
          "text": [
            "1409/1409 [==============================] - 1s 917us/step - loss: 0.4324 - binary_accuracy: 0.7999 - precision: 0.6541 - recall: 0.5134\n"
          ]
        },
        {
          "data": {
            "text/plain": [
              "[0.43235230445861816,\n",
              " 0.799858033657074,\n",
              " 0.6541095972061157,\n",
              " 0.5134408473968506]"
            ]
          },
          "execution_count": 54,
          "metadata": {},
          "output_type": "execute_result"
        }
      ],
      "source": [
        "model.evaluate(x=test_dataset)"
      ]
    }
  ],
  "metadata": {
    "colab": {
      "provenance": [],
      "include_colab_link": true
    },
    "kernelspec": {
      "display_name": "Python 3",
      "name": "python3"
    },
    "language_info": {
      "codemirror_mode": {
        "name": "ipython",
        "version": 3
      },
      "file_extension": ".py",
      "mimetype": "text/x-python",
      "name": "python",
      "nbconvert_exporter": "python",
      "pygments_lexer": "ipython3",
      "version": "3.10.12"
    }
  },
  "nbformat": 4,
  "nbformat_minor": 0
}