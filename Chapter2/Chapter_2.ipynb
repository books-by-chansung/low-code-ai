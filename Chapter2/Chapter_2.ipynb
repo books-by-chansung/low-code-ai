{
  "nbformat": 4,
  "nbformat_minor": 0,
  "metadata": {
    "colab": {
      "private_outputs": true,
      "provenance": [],
      "include_colab_link": true
    },
    "kernelspec": {
      "name": "python3",
      "display_name": "Python 3"
    },
    "language_info": {
      "name": "python"
    }
  },
  "cells": [
    {
      "cell_type": "markdown",
      "metadata": {
        "id": "view-in-github",
        "colab_type": "text"
      },
      "source": [
        "<a href=\"https://colab.research.google.com/github/books-by-chansung/low-code-ai/blob/main/Chapter2/Chapter_2.ipynb\" target=\"_parent\"><img src=\"https://colab.research.google.com/assets/colab-badge.svg\" alt=\"Open In Colab\"/></a>"
      ]
    },
    {
      "cell_type": "code",
      "execution_count": null,
      "metadata": {
        "id": "ppBjVndpDjZX"
      },
      "outputs": [],
      "source": [
        "# 판다스 불러오기\n",
        "import pandas as pd"
      ]
    },
    {
      "cell_type": "code",
      "source": [
        "# CDC에서 \"미국 성인(35세 이상) 심장병 사망률 데이터 (주/지역 및 카운티별) -- 2018-2020\" 데이터셋을 다운로드합니다.\n",
        "# 데이터셋을 Pandas 데이터프레임에 로드합니다.\n",
        "\n",
        "url = 'https://data.cdc.gov/api/views/jiwm-ppbh/rows.csv?accessType=DOWNLOAD'\n",
        "heart_df = pd.read_csv(url, index_col=0)"
      ],
      "metadata": {
        "id": "Lvxwax94DwfO"
      },
      "execution_count": null,
      "outputs": []
    },
    {
      "cell_type": "code",
      "source": [
        "# head() 메서드를 사용하여 hear_df 데이터프레임의 첫 다섯 줄을 확인합니다.\n",
        "\n",
        "heart_df.head()"
      ],
      "metadata": {
        "id": "DKL9QmLJEZHd"
      },
      "execution_count": null,
      "outputs": []
    },
    {
      "cell_type": "code",
      "source": [
        "# info() 메서드를 사용하여 heart_df 데이터프레임의 각 열에 대한 정보를 확인합니다.\n",
        "\n",
        "heart_df.info()"
      ],
      "metadata": {
        "id": "fHTrIT_tE1yU"
      },
      "execution_count": null,
      "outputs": []
    },
    {
      "cell_type": "code",
      "source": [
        "# CDC 웹사이트에서 CSV 파일을 콜랩 노트북 환경으로 다운로드하는 코드\n",
        "\n",
        "# 참고: 2장에서는 CDC 웹사이트에서 직접 파일을 다운로드한 후,\n",
        "# 2장에서 제시된 지침에 따라 Colab 환경에 파일을 업로드하라고 지시하고 있습니다.\n",
        "# 이 연습을 처음 수행할 때는 이 지침을 따르세요. 이 코드는 8장에서 설명됩니다.\n",
        "\n",
        "!wget $url -O ./heart.csv\n"
      ],
      "metadata": {
        "id": "Vay8qlZPFB41"
      },
      "execution_count": null,
      "outputs": []
    },
    {
      "cell_type": "code",
      "source": [
        "# CDC 웹사이트에서 다운로드한 CSV 파일을 Pandas 데이터프레임에 로드하고 첫 다섯 줄을 확인합니다.\n",
        "\n",
        "heart_df = pd.read_csv('/content/heart.csv', error_bad_lines=False,\n",
        "                       engine=\"python\")\n",
        "\n",
        "heart_df.head()"
      ],
      "metadata": {
        "id": "ty0a2CAJHVD0"
      },
      "execution_count": null,
      "outputs": []
    },
    {
      "cell_type": "code",
      "source": [
        "# info() 메서드를 사용하여 heart_df 데이터프레임의 각 열에 대한 정보를 확인합니다.\n",
        "# 참고: 이 셀의 정확한 값은 이 노트북이 실행되는 시점에 따라 2장에서 보여지는 값과 다를 수 있습니다.\n",
        "\n",
        "\n",
        "heart_df.info()"
      ],
      "metadata": {
        "id": "9ewioa8mIBSg"
      },
      "execution_count": null,
      "outputs": []
    },
    {
      "cell_type": "code",
      "source": [
        "# heart_df 데이터프레임의 각 열에서 Null 값의 개수를 계산합니다.\n",
        "\n",
        "heart_df.isnull().sum()"
      ],
      "metadata": {
        "id": "5Tnr16L-IhVN"
      },
      "execution_count": null,
      "outputs": []
    },
    {
      "cell_type": "code",
      "source": [
        "# heart_df 데이터프레임의 Stratification2 열에 있는 고유 값을 나열합니다.\n",
        "\n",
        "# 질문: 이 열은 무엇을 나타낼 수 있을까요?\n",
        "# 이 열은 데이터가 특정 기준에 따라 분류된 항목을 나타낼 수 있습니다. 예를 들어, 연령대, 성별, 인종 또는 지역별로\n",
        "# 데이터를 세분화한 결과일 수 있습니다. 고유 값을 보면 무엇에 따라 데이터를 분류했는지에 대한 단서를 얻을 수 있습니다.\n",
        "\n",
        "heart_df.Stratification2.unique()"
      ],
      "metadata": {
        "id": "LfdT5dW5JB52"
      },
      "execution_count": null,
      "outputs": []
    },
    {
      "cell_type": "code",
      "source": [
        "# Seaborn을 사용하여 Stratification2 열에 대한 바이올린 플롯을 그립니다.\n",
        "\n",
        "import seaborn as sns\n",
        "sns.violinplot(x='Data_Value', y='Stratification2', data=heart_df)"
      ],
      "metadata": {
        "id": "JjnZoGvKJegm"
      },
      "execution_count": null,
      "outputs": []
    },
    {
      "cell_type": "code",
      "source": [],
      "metadata": {
        "id": "n-Ja32u4KYkj"
      },
      "execution_count": null,
      "outputs": []
    }
  ]
}